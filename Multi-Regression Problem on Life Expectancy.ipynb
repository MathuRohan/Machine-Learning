{
 "cells": [
  {
   "cell_type": "markdown",
   "metadata": {
    "id": "E8A0yIDCtJLa"
   },
   "source": [
    "# Linear Regression\n",
    "\n",
    "\n",
    "## Dataset\n",
    "The dataset you will be using is about Life expectancy of different countries. We will explore how immunization factors, mortality factors, economic factors, social factors and other health related factors affect Life expectancy of a country.\n",
    "\n",
    "There are two data files: \"LifeExpectancy_training.csv\" and \"LifeExpectancy_test.csv\"<br/>\n",
    "Both files have the following fields, except Life_expectancy which is not available in \"LifeExpectancy_test.csv\"\n",
    "\n",
    "Features :\n",
    "- Year : from 2000 to 2015\n",
    "- Status : Developed or Developing status\n",
    "- Adult_Mortality : Adult Mortality Rates of both sexes (probability of dying between 15 and 60 years per 1000 population)\n",
    "- Alcohol : Alcohol, recorded per capita (15+) consumption (in litres of pure alcohol)\n",
    "- percentage_expenditure : Expenditure on health as a percentage of Gross Domestic Product per capita(%)\n",
    "- BMI: Average Body Mass Index of entire population\n",
    "- Total_expenditure: General government expenditure on health as a percentage of total government expenditure (%)\n",
    "- Diphtheria: Diphtheria tetanus toxoid and pertussis (DTP3) immunization coverage among 1-year-olds (%)\n",
    "- HIV_AIDS: Deaths per 1000 live births HIV/AIDS (0-4 years)\n",
    "- GDP: Gross Domestic Product per capita (in USD)\n",
    "- Population\n",
    "- Income_composition_of_resources: Human Development Index in terms of income composition of resources (index ranging from 0 to 1)\n",
    "- Schooling: Number of years of Schooling(years)\n",
    "\n",
    "Target:\n",
    "- Life_expectancy: Life Expectancy in age\n",
    "\n",
    "\n",
    "Training dataset, \"LifeExpectancy_training.csv\", contains 1154 rows and 14 columns. This is the training set containing both of the features and the target.<br/>\n",
    "Test dataset, \"LifeExpectancy_test.csv\", contains 495 rows and 13 columns. This is the test set which only contains the features.<br/>\n",
    "\n",
    "Predict Life expectancy based on the features."
   ]
  },
  {
   "cell_type": "code",
   "execution_count": 2,
   "metadata": {
    "id": "xwWTXsa30LLu"
   },
   "outputs": [],
   "source": [
    "import numpy as np\n",
    "import pandas as pd"
   ]
  },
  {
   "cell_type": "markdown",
   "metadata": {
    "id": "JGLaGzbL0jdH"
   },
   "source": [
    "Load the training data \"LifeExpectancy_training.csv\" in Colab and View the first 5 lines"
   ]
  },
  {
   "cell_type": "code",
   "execution_count": 3,
   "metadata": {
    "colab": {
     "base_uri": "https://localhost:8080/",
     "height": 55,
     "resources": {
      "http://localhost:8080/nbextensions/google.colab/files.js": {
       "data": "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",
       "headers": [
        [
         "content-type",
         "application/javascript"
        ]
       ],
       "ok": true,
       "status": 200,
       "status_text": ""
      }
     }
    },
    "id": "u5oaCEzI0se8",
    "outputId": "43f788ed-ed30-4203-a9de-dcb0f6041f2c"
   },
   "outputs": [
    {
     "data": {
      "text/html": [
       "\n",
       "     <input type=\"file\" id=\"files-6d0e317d-927f-46f3-8ac1-045d1c7617e7\" name=\"files[]\" multiple disabled\n",
       "        style=\"border:none\" />\n",
       "     <output id=\"result-6d0e317d-927f-46f3-8ac1-045d1c7617e7\">\n",
       "      Upload widget is only available when the cell has been executed in the\n",
       "      current browser session. Please rerun this cell to enable.\n",
       "      </output>\n",
       "      <script src=\"/nbextensions/google.colab/files.js\"></script> "
      ],
      "text/plain": [
       "<IPython.core.display.HTML object>"
      ]
     },
     "metadata": {},
     "output_type": "display_data"
    },
    {
     "name": "stdout",
     "output_type": "stream",
     "text": [
      "Saving LifeExpectancy_training.csv to LifeExpectancy_training.csv\n"
     ]
    }
   ],
   "source": [
    "from google.colab import files\n",
    "uploaded = files.upload()"
   ]
  },
  {
   "cell_type": "code",
   "execution_count": 4,
   "metadata": {
    "id": "viQgJ6uy03nd"
   },
   "outputs": [],
   "source": [
    "# Load the training data\n",
    "import io\n",
    "df = pd.read_csv(io.BytesIO(uploaded['LifeExpectancy_training.csv']))"
   ]
  },
  {
   "cell_type": "code",
   "execution_count": 5,
   "metadata": {
    "colab": {
     "base_uri": "https://localhost:8080/",
     "height": 204
    },
    "id": "bTxYGeoSxcKs",
    "outputId": "fbb504c7-ad54-464a-ef04-47070f2b09c4"
   },
   "outputs": [
    {
     "data": {
      "text/html": [
       "<div>\n",
       "<style scoped>\n",
       "    .dataframe tbody tr th:only-of-type {\n",
       "        vertical-align: middle;\n",
       "    }\n",
       "\n",
       "    .dataframe tbody tr th {\n",
       "        vertical-align: top;\n",
       "    }\n",
       "\n",
       "    .dataframe thead th {\n",
       "        text-align: right;\n",
       "    }\n",
       "</style>\n",
       "<table border=\"1\" class=\"dataframe\">\n",
       "  <thead>\n",
       "    <tr style=\"text-align: right;\">\n",
       "      <th></th>\n",
       "      <th>Year</th>\n",
       "      <th>Status</th>\n",
       "      <th>Adult_Mortality</th>\n",
       "      <th>Alcohol</th>\n",
       "      <th>percentage_expenditure</th>\n",
       "      <th>BMI</th>\n",
       "      <th>Total_expenditure</th>\n",
       "      <th>Diphtheria</th>\n",
       "      <th>HIV_AIDS</th>\n",
       "      <th>GDP</th>\n",
       "      <th>Population</th>\n",
       "      <th>Income_composition_of_resources</th>\n",
       "      <th>Schooling</th>\n",
       "      <th>Life_expectancy</th>\n",
       "    </tr>\n",
       "  </thead>\n",
       "  <tbody>\n",
       "    <tr>\n",
       "      <th>0</th>\n",
       "      <td>2011</td>\n",
       "      <td>Developing</td>\n",
       "      <td>93</td>\n",
       "      <td>1.57</td>\n",
       "      <td>835.062683</td>\n",
       "      <td>64.0</td>\n",
       "      <td>7.12</td>\n",
       "      <td>81</td>\n",
       "      <td>0.1</td>\n",
       "      <td>8734.96530</td>\n",
       "      <td>4588368.0</td>\n",
       "      <td>0.758</td>\n",
       "      <td>13.2</td>\n",
       "      <td>75.0</td>\n",
       "    </tr>\n",
       "    <tr>\n",
       "      <th>1</th>\n",
       "      <td>2014</td>\n",
       "      <td>Developing</td>\n",
       "      <td>152</td>\n",
       "      <td>6.41</td>\n",
       "      <td>789.077295</td>\n",
       "      <td>32.4</td>\n",
       "      <td>4.12</td>\n",
       "      <td>99</td>\n",
       "      <td>0.1</td>\n",
       "      <td>5941.84710</td>\n",
       "      <td>68416772.0</td>\n",
       "      <td>0.737</td>\n",
       "      <td>13.6</td>\n",
       "      <td>74.6</td>\n",
       "    </tr>\n",
       "    <tr>\n",
       "      <th>2</th>\n",
       "      <td>2013</td>\n",
       "      <td>Developed</td>\n",
       "      <td>68</td>\n",
       "      <td>11.82</td>\n",
       "      <td>90.585012</td>\n",
       "      <td>56.6</td>\n",
       "      <td>11.14</td>\n",
       "      <td>95</td>\n",
       "      <td>0.1</td>\n",
       "      <td>554.71532</td>\n",
       "      <td>8479375.0</td>\n",
       "      <td>0.887</td>\n",
       "      <td>15.7</td>\n",
       "      <td>81.1</td>\n",
       "    </tr>\n",
       "    <tr>\n",
       "      <th>3</th>\n",
       "      <td>2014</td>\n",
       "      <td>Developed</td>\n",
       "      <td>135</td>\n",
       "      <td>0.01</td>\n",
       "      <td>1.576409</td>\n",
       "      <td>59.9</td>\n",
       "      <td>5.57</td>\n",
       "      <td>94</td>\n",
       "      <td>0.1</td>\n",
       "      <td>12.27733</td>\n",
       "      <td>1998979.0</td>\n",
       "      <td>0.797</td>\n",
       "      <td>14.7</td>\n",
       "      <td>74.8</td>\n",
       "    </tr>\n",
       "    <tr>\n",
       "      <th>4</th>\n",
       "      <td>2002</td>\n",
       "      <td>Developing</td>\n",
       "      <td>192</td>\n",
       "      <td>5.93</td>\n",
       "      <td>27.638103</td>\n",
       "      <td>2.2</td>\n",
       "      <td>3.70</td>\n",
       "      <td>96</td>\n",
       "      <td>0.7</td>\n",
       "      <td>296.54617</td>\n",
       "      <td>6473164.0</td>\n",
       "      <td>0.657</td>\n",
       "      <td>11.5</td>\n",
       "      <td>71.4</td>\n",
       "    </tr>\n",
       "  </tbody>\n",
       "</table>\n",
       "</div>"
      ],
      "text/plain": [
       "   Year      Status  ...  Schooling  Life_expectancy\n",
       "0  2011  Developing  ...       13.2             75.0\n",
       "1  2014  Developing  ...       13.6             74.6\n",
       "2  2013   Developed  ...       15.7             81.1\n",
       "3  2014   Developed  ...       14.7             74.8\n",
       "4  2002  Developing  ...       11.5             71.4\n",
       "\n",
       "[5 rows x 14 columns]"
      ]
     },
     "execution_count": 5,
     "metadata": {},
     "output_type": "execute_result"
    }
   ],
   "source": [
    "# Show the first 5 lines\n",
    "### WRITE CODE ###\n",
    "df.head()"
   ]
  },
  {
   "cell_type": "markdown",
   "metadata": {
    "id": "IELJ9Vb2zv7p"
   },
   "source": [
    "Doing Exploratory Data Analysis on the dataframe to see how much is the variance in Life expectancy across Years and Status "
   ]
  },
  {
   "cell_type": "code",
   "execution_count": null,
   "metadata": {
    "colab": {
     "base_uri": "https://localhost:8080/",
     "height": 638
    },
    "id": "XTNvGRASiSA1",
    "outputId": "024cc639-14b4-4b7f-ca3f-0f2ca381b833"
   },
   "outputs": [
    {
     "data": {
      "text/html": [
       "<div>\n",
       "<style scoped>\n",
       "    .dataframe tbody tr th:only-of-type {\n",
       "        vertical-align: middle;\n",
       "    }\n",
       "\n",
       "    .dataframe tbody tr th {\n",
       "        vertical-align: top;\n",
       "    }\n",
       "\n",
       "    .dataframe thead tr th {\n",
       "        text-align: left;\n",
       "    }\n",
       "\n",
       "    .dataframe thead tr:last-of-type th {\n",
       "        text-align: right;\n",
       "    }\n",
       "</style>\n",
       "<table border=\"1\" class=\"dataframe\">\n",
       "  <thead>\n",
       "    <tr>\n",
       "      <th></th>\n",
       "      <th colspan=\"8\" halign=\"left\">Life_expectancy</th>\n",
       "    </tr>\n",
       "    <tr>\n",
       "      <th></th>\n",
       "      <th colspan=\"8\" halign=\"left\">describe</th>\n",
       "    </tr>\n",
       "    <tr>\n",
       "      <th></th>\n",
       "      <th>count</th>\n",
       "      <th>mean</th>\n",
       "      <th>std</th>\n",
       "      <th>min</th>\n",
       "      <th>25%</th>\n",
       "      <th>50%</th>\n",
       "      <th>75%</th>\n",
       "      <th>max</th>\n",
       "    </tr>\n",
       "    <tr>\n",
       "      <th>Year</th>\n",
       "      <th></th>\n",
       "      <th></th>\n",
       "      <th></th>\n",
       "      <th></th>\n",
       "      <th></th>\n",
       "      <th></th>\n",
       "      <th></th>\n",
       "      <th></th>\n",
       "    </tr>\n",
       "  </thead>\n",
       "  <tbody>\n",
       "    <tr>\n",
       "      <th>2000</th>\n",
       "      <td>45.0</td>\n",
       "      <td>70.81</td>\n",
       "      <td>7.77</td>\n",
       "      <td>46.0</td>\n",
       "      <td>68.00</td>\n",
       "      <td>72.00</td>\n",
       "      <td>77.00</td>\n",
       "      <td>79.4</td>\n",
       "    </tr>\n",
       "    <tr>\n",
       "      <th>2001</th>\n",
       "      <td>45.0</td>\n",
       "      <td>69.99</td>\n",
       "      <td>7.36</td>\n",
       "      <td>47.1</td>\n",
       "      <td>67.70</td>\n",
       "      <td>71.60</td>\n",
       "      <td>74.20</td>\n",
       "      <td>79.9</td>\n",
       "    </tr>\n",
       "    <tr>\n",
       "      <th>2002</th>\n",
       "      <td>61.0</td>\n",
       "      <td>68.73</td>\n",
       "      <td>8.99</td>\n",
       "      <td>44.0</td>\n",
       "      <td>64.80</td>\n",
       "      <td>71.60</td>\n",
       "      <td>75.00</td>\n",
       "      <td>80.0</td>\n",
       "    </tr>\n",
       "    <tr>\n",
       "      <th>2003</th>\n",
       "      <td>61.0</td>\n",
       "      <td>68.67</td>\n",
       "      <td>9.67</td>\n",
       "      <td>44.5</td>\n",
       "      <td>64.60</td>\n",
       "      <td>71.70</td>\n",
       "      <td>74.40</td>\n",
       "      <td>83.0</td>\n",
       "    </tr>\n",
       "    <tr>\n",
       "      <th>2004</th>\n",
       "      <td>71.0</td>\n",
       "      <td>68.97</td>\n",
       "      <td>8.58</td>\n",
       "      <td>44.3</td>\n",
       "      <td>64.35</td>\n",
       "      <td>71.90</td>\n",
       "      <td>73.45</td>\n",
       "      <td>89.0</td>\n",
       "    </tr>\n",
       "    <tr>\n",
       "      <th>2005</th>\n",
       "      <td>70.0</td>\n",
       "      <td>69.40</td>\n",
       "      <td>8.56</td>\n",
       "      <td>46.0</td>\n",
       "      <td>64.93</td>\n",
       "      <td>72.00</td>\n",
       "      <td>74.27</td>\n",
       "      <td>88.0</td>\n",
       "    </tr>\n",
       "    <tr>\n",
       "      <th>2006</th>\n",
       "      <td>82.0</td>\n",
       "      <td>69.28</td>\n",
       "      <td>8.98</td>\n",
       "      <td>45.4</td>\n",
       "      <td>65.05</td>\n",
       "      <td>72.25</td>\n",
       "      <td>74.35</td>\n",
       "      <td>86.0</td>\n",
       "    </tr>\n",
       "    <tr>\n",
       "      <th>2007</th>\n",
       "      <td>83.0</td>\n",
       "      <td>68.81</td>\n",
       "      <td>9.69</td>\n",
       "      <td>46.2</td>\n",
       "      <td>63.05</td>\n",
       "      <td>72.50</td>\n",
       "      <td>74.80</td>\n",
       "      <td>89.0</td>\n",
       "    </tr>\n",
       "    <tr>\n",
       "      <th>2008</th>\n",
       "      <td>87.0</td>\n",
       "      <td>69.26</td>\n",
       "      <td>8.59</td>\n",
       "      <td>46.2</td>\n",
       "      <td>64.85</td>\n",
       "      <td>71.80</td>\n",
       "      <td>74.60</td>\n",
       "      <td>87.0</td>\n",
       "    </tr>\n",
       "    <tr>\n",
       "      <th>2009</th>\n",
       "      <td>96.0</td>\n",
       "      <td>68.69</td>\n",
       "      <td>9.22</td>\n",
       "      <td>47.1</td>\n",
       "      <td>61.68</td>\n",
       "      <td>72.25</td>\n",
       "      <td>75.22</td>\n",
       "      <td>83.0</td>\n",
       "    </tr>\n",
       "    <tr>\n",
       "      <th>2010</th>\n",
       "      <td>89.0</td>\n",
       "      <td>69.64</td>\n",
       "      <td>9.06</td>\n",
       "      <td>49.2</td>\n",
       "      <td>64.30</td>\n",
       "      <td>72.80</td>\n",
       "      <td>75.50</td>\n",
       "      <td>86.0</td>\n",
       "    </tr>\n",
       "    <tr>\n",
       "      <th>2011</th>\n",
       "      <td>93.0</td>\n",
       "      <td>69.85</td>\n",
       "      <td>8.77</td>\n",
       "      <td>48.9</td>\n",
       "      <td>63.80</td>\n",
       "      <td>72.00</td>\n",
       "      <td>75.20</td>\n",
       "      <td>88.0</td>\n",
       "    </tr>\n",
       "    <tr>\n",
       "      <th>2012</th>\n",
       "      <td>85.0</td>\n",
       "      <td>70.78</td>\n",
       "      <td>8.53</td>\n",
       "      <td>49.7</td>\n",
       "      <td>65.60</td>\n",
       "      <td>73.60</td>\n",
       "      <td>76.80</td>\n",
       "      <td>86.0</td>\n",
       "    </tr>\n",
       "    <tr>\n",
       "      <th>2013</th>\n",
       "      <td>92.0</td>\n",
       "      <td>70.73</td>\n",
       "      <td>8.14</td>\n",
       "      <td>52.2</td>\n",
       "      <td>65.23</td>\n",
       "      <td>71.50</td>\n",
       "      <td>76.15</td>\n",
       "      <td>86.0</td>\n",
       "    </tr>\n",
       "    <tr>\n",
       "      <th>2014</th>\n",
       "      <td>92.0</td>\n",
       "      <td>70.50</td>\n",
       "      <td>8.90</td>\n",
       "      <td>48.1</td>\n",
       "      <td>63.18</td>\n",
       "      <td>71.85</td>\n",
       "      <td>76.30</td>\n",
       "      <td>89.0</td>\n",
       "    </tr>\n",
       "    <tr>\n",
       "      <th>2015</th>\n",
       "      <td>2.0</td>\n",
       "      <td>71.40</td>\n",
       "      <td>9.05</td>\n",
       "      <td>65.0</td>\n",
       "      <td>68.20</td>\n",
       "      <td>71.40</td>\n",
       "      <td>74.60</td>\n",
       "      <td>77.8</td>\n",
       "    </tr>\n",
       "  </tbody>\n",
       "</table>\n",
       "</div>"
      ],
      "text/plain": [
       "     Life_expectancy                                              \n",
       "            describe                                              \n",
       "               count   mean   std   min    25%    50%    75%   max\n",
       "Year                                                              \n",
       "2000            45.0  70.81  7.77  46.0  68.00  72.00  77.00  79.4\n",
       "2001            45.0  69.99  7.36  47.1  67.70  71.60  74.20  79.9\n",
       "2002            61.0  68.73  8.99  44.0  64.80  71.60  75.00  80.0\n",
       "2003            61.0  68.67  9.67  44.5  64.60  71.70  74.40  83.0\n",
       "2004            71.0  68.97  8.58  44.3  64.35  71.90  73.45  89.0\n",
       "2005            70.0  69.40  8.56  46.0  64.93  72.00  74.27  88.0\n",
       "2006            82.0  69.28  8.98  45.4  65.05  72.25  74.35  86.0\n",
       "2007            83.0  68.81  9.69  46.2  63.05  72.50  74.80  89.0\n",
       "2008            87.0  69.26  8.59  46.2  64.85  71.80  74.60  87.0\n",
       "2009            96.0  68.69  9.22  47.1  61.68  72.25  75.22  83.0\n",
       "2010            89.0  69.64  9.06  49.2  64.30  72.80  75.50  86.0\n",
       "2011            93.0  69.85  8.77  48.9  63.80  72.00  75.20  88.0\n",
       "2012            85.0  70.78  8.53  49.7  65.60  73.60  76.80  86.0\n",
       "2013            92.0  70.73  8.14  52.2  65.23  71.50  76.15  86.0\n",
       "2014            92.0  70.50  8.90  48.1  63.18  71.85  76.30  89.0\n",
       "2015             2.0  71.40  9.05  65.0  68.20  71.40  74.60  77.8"
      ]
     },
     "execution_count": 5,
     "metadata": {},
     "output_type": "execute_result"
    }
   ],
   "source": [
    "agg_func_describe = {'Life_expectancy': ['describe']}\n",
    "df.groupby(['Year']).agg(agg_func_describe).round(2)"
   ]
  },
  {
   "cell_type": "code",
   "execution_count": null,
   "metadata": {
    "colab": {
     "base_uri": "https://localhost:8080/",
     "height": 204
    },
    "id": "j1hL3oRSPgQX",
    "outputId": "d0ff0b12-90f4-42df-cf4e-35f6c76bd7ac"
   },
   "outputs": [
    {
     "data": {
      "text/html": [
       "<div>\n",
       "<style scoped>\n",
       "    .dataframe tbody tr th:only-of-type {\n",
       "        vertical-align: middle;\n",
       "    }\n",
       "\n",
       "    .dataframe tbody tr th {\n",
       "        vertical-align: top;\n",
       "    }\n",
       "\n",
       "    .dataframe thead tr th {\n",
       "        text-align: left;\n",
       "    }\n",
       "\n",
       "    .dataframe thead tr:last-of-type th {\n",
       "        text-align: right;\n",
       "    }\n",
       "</style>\n",
       "<table border=\"1\" class=\"dataframe\">\n",
       "  <thead>\n",
       "    <tr>\n",
       "      <th></th>\n",
       "      <th colspan=\"8\" halign=\"left\">Life_expectancy</th>\n",
       "    </tr>\n",
       "    <tr>\n",
       "      <th></th>\n",
       "      <th colspan=\"8\" halign=\"left\">describe</th>\n",
       "    </tr>\n",
       "    <tr>\n",
       "      <th></th>\n",
       "      <th>count</th>\n",
       "      <th>mean</th>\n",
       "      <th>std</th>\n",
       "      <th>min</th>\n",
       "      <th>25%</th>\n",
       "      <th>50%</th>\n",
       "      <th>75%</th>\n",
       "      <th>max</th>\n",
       "    </tr>\n",
       "    <tr>\n",
       "      <th>Status</th>\n",
       "      <th></th>\n",
       "      <th></th>\n",
       "      <th></th>\n",
       "      <th></th>\n",
       "      <th></th>\n",
       "      <th></th>\n",
       "      <th></th>\n",
       "      <th></th>\n",
       "    </tr>\n",
       "  </thead>\n",
       "  <tbody>\n",
       "    <tr>\n",
       "      <th>Developed</th>\n",
       "      <td>171.0</td>\n",
       "      <td>78.69</td>\n",
       "      <td>4.08</td>\n",
       "      <td>69.9</td>\n",
       "      <td>76.15</td>\n",
       "      <td>79.1</td>\n",
       "      <td>81.30</td>\n",
       "      <td>89.0</td>\n",
       "    </tr>\n",
       "    <tr>\n",
       "      <th>Developing</th>\n",
       "      <td>983.0</td>\n",
       "      <td>68.03</td>\n",
       "      <td>8.41</td>\n",
       "      <td>44.0</td>\n",
       "      <td>63.20</td>\n",
       "      <td>69.7</td>\n",
       "      <td>74.05</td>\n",
       "      <td>89.0</td>\n",
       "    </tr>\n",
       "  </tbody>\n",
       "</table>\n",
       "</div>"
      ],
      "text/plain": [
       "           Life_expectancy                                             \n",
       "                  describe                                             \n",
       "                     count   mean   std   min    25%   50%    75%   max\n",
       "Status                                                                 \n",
       "Developed            171.0  78.69  4.08  69.9  76.15  79.1  81.30  89.0\n",
       "Developing           983.0  68.03  8.41  44.0  63.20  69.7  74.05  89.0"
      ]
     },
     "execution_count": 6,
     "metadata": {},
     "output_type": "execute_result"
    }
   ],
   "source": [
    "agg_func_describe = {'Life_expectancy': ['describe']}\n",
    "df.groupby(['Status']).agg(agg_func_describe).round(2)"
   ]
  },
  {
   "cell_type": "markdown",
   "metadata": {
    "id": "kIRo3Da91IdF"
   },
   "source": [
    "## Data Exploration\n",
    "We can plot a histogram of the dataframe for the features except \"Status\" to understand their distributions. <br/>"
   ]
  },
  {
   "cell_type": "code",
   "execution_count": null,
   "metadata": {
    "colab": {
     "base_uri": "https://localhost:8080/",
     "height": 879
    },
    "id": "iemQk82B3Nam",
    "outputId": "b91844a0-036a-4730-a41c-10f055a97815"
   },
   "outputs": [
    {
     "data": {
      "image/png": "[encoded data removed]",
      "text/plain": [
       "<Figure size 1440x1080 with 16 Axes>"
      ]
     },
     "metadata": {
      "needs_background": "light"
     },
     "output_type": "display_data"
    }
   ],
   "source": [
    "### WRITE CODE TO OBTAIN AND DISPLAY HISTOGRAMS ###\n",
    "df.hist( figsize=(20, 15));"
   ]
  },
  {
   "cell_type": "markdown",
   "metadata": {
    "id": "_XD0AGPM5eaD"
   },
   "source": [
    "Some of the features like percentage_expenditure and GPD have extreme values in the data. Values like Population are not clearly interpretable in an histogram and require a box plot. The scaling between the variables is also quite different from each other; hence, some normalization might be useful."
   ]
  },
  {
   "cell_type": "code",
   "execution_count": null,
   "metadata": {
    "colab": {
     "base_uri": "https://localhost:8080/",
     "height": 299
    },
    "id": "YymXHgbx14uU",
    "outputId": "d405d7bf-d75d-4eee-fe00-7f82b51c4f14"
   },
   "outputs": [
    {
     "data": {
      "application/vnd.google.colaboratory.intrinsic+json": {
       "type": "string"
      },
      "text/plain": [
       "''"
      ]
     },
     "execution_count": 13,
     "metadata": {},
     "output_type": "execute_result"
    },
    {
     "data": {
      "image/png": "[encoded data removed]",
      "text/plain": [
       "<Figure size 432x288 with 1 Axes>"
      ]
     },
     "metadata": {
      "needs_background": "light"
     },
     "output_type": "display_data"
    }
   ],
   "source": [
    "import matplotlib.pyplot as plt\n",
    "\n",
    "green_diamond = dict(markerfacecolor='g', marker='D')\n",
    "fig1, ax1 = plt.subplots()\n",
    "ax1.set_title('Basic Plot')\n",
    "ax1.boxplot(df.Population, flierprops=green_diamond)\n",
    ";"
   ]
  },
  {
   "cell_type": "code",
   "execution_count": null,
   "metadata": {
    "colab": {
     "base_uri": "https://localhost:8080/",
     "height": 299
    },
    "id": "bbgS3AUK2qlZ",
    "outputId": "4ceec030-7b9e-46e3-8783-760c5bb7953a"
   },
   "outputs": [
    {
     "data": {
      "application/vnd.google.colaboratory.intrinsic+json": {
       "type": "string"
      },
      "text/plain": [
       "''"
      ]
     },
     "execution_count": 14,
     "metadata": {},
     "output_type": "execute_result"
    },
    {
     "data": {
      "image/png": "[encoded data removed]",
      "text/plain": [
       "<Figure size 432x288 with 1 Axes>"
      ]
     },
     "metadata": {
      "needs_background": "light"
     },
     "output_type": "display_data"
    }
   ],
   "source": [
    "fig4, ax4 = plt.subplots()\n",
    "ax4.set_title('Hide Outlier Points')\n",
    "ax4.boxplot(df.Population, showfliers=False)\n",
    ";"
   ]
  },
  {
   "cell_type": "markdown",
   "metadata": {
    "id": "xmq41MOV9Z8d"
   },
   "source": [
    "Compute the correlation matrix to get an understanding of the correlation between life_expectancy and the other features.<br/>"
   ]
  },
  {
   "cell_type": "code",
   "execution_count": null,
   "metadata": {
    "id": "Nh7strA4nw6X"
   },
   "outputs": [],
   "source": [
    "import seaborn as sns"
   ]
  },
  {
   "cell_type": "code",
   "execution_count": null,
   "metadata": {
    "colab": {
     "base_uri": "https://localhost:8080/",
     "height": 556
    },
    "id": "WmuZTzx29bkO",
    "outputId": "86563f10-6ca9-426c-d3e7-f15ae0f29a48"
   },
   "outputs": [
    {
     "data": {
      "image/png": "[encoded data removed]",
      "text/plain": [
       "<Figure size 1152x432 with 2 Axes>"
      ]
     },
     "metadata": {
      "needs_background": "light"
     },
     "output_type": "display_data"
    }
   ],
   "source": [
    "### WRITE CODE TO OBTAIN CORRELATION MATRIX ###\n",
    "plt.figure(figsize=(16, 6))\n",
    "\n",
    "heatmap = sns.heatmap(df.corr(), vmin=-1, vmax=1, annot=True, cmap='BrBG')\n",
    "heatmap.set_title('Correlation Heatmap', fontdict={'fontsize':12}, pad=12);"
   ]
  },
  {
   "cell_type": "code",
   "execution_count": null,
   "metadata": {
    "colab": {
     "base_uri": "https://localhost:8080/",
     "height": 731
    },
    "id": "011tgyubpBQv",
    "outputId": "43a3b72a-999c-4c2c-9958-fa5bcbaf09bf"
   },
   "outputs": [
    {
     "data": {
      "image/png": "[encoded data removed]",
      "text/plain": [
       "<Figure size 576x864 with 2 Axes>"
      ]
     },
     "metadata": {
      "needs_background": "light"
     },
     "output_type": "display_data"
    }
   ],
   "source": [
    "plt.figure(figsize=(8, 12))\n",
    "heatmap = sns.heatmap(df.corr()[['Life_expectancy']].sort_values(by='Life_expectancy', ascending=False), vmin=-1, vmax=1, annot=True, cmap='BrBG')\n",
    "heatmap.set_title('Features Correlating with Life_expectancy', fontdict={'fontsize':18}, pad=16);"
   ]
  },
  {
   "cell_type": "markdown",
   "metadata": {
    "id": "jYvGzY8Z-ni-"
   },
   "source": [
    "### Standardization of features"
   ]
  },
  {
   "cell_type": "markdown",
   "metadata": {
    "id": "Jhq-T3Ed-r8w"
   },
   "source": [
    "Feature standardization makes the values of each feature in the data have zero-mean and unit-variance. This method is widely used for normalization in many machine learning algorithms. The general method of calculation is to determine the distribution mean and standard deviation for each feature. Next we subtract the mean from each feature. Then we divide the values of each feature by its standard deviation.\n",
    "\n",
    "$x'$ = ($x$ - $\\bar{x}$)/$\\sigma$ \n",
    "\n",
    "where $x$ is the original feature vector,\n",
    "$\\bar{x}$ is the mean of the feature vector and\n",
    "$\\sigma$ is its standard deviation.\n",
    "\n",
    "This is also called Z-score Normalization. \n",
    "\n",
    "Perform Z-score Normalization on the features (except \"Year\" and \"Status\") in both training and test set. "
   ]
  },
  {
   "cell_type": "code",
   "execution_count": 6,
   "metadata": {
    "colab": {
     "base_uri": "https://localhost:8080/",
     "height": 55,
     "resources": {
      "http://localhost:8080/nbextensions/google.colab/files.js": {
       "data": "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",
       "headers": [
        [
         "content-type",
         "application/javascript"
        ]
       ],
       "ok": true,
       "status": 200,
       "status_text": ""
      }
     }
    },
    "id": "iD2UmlarDHY_",
    "outputId": "916fb8e6-96fc-4f6b-9101-45b81e956c4e"
   },
   "outputs": [
    {
     "data": {
      "text/html": [
       "\n",
       "     <input type=\"file\" id=\"files-3db4c661-3f0d-43b5-912f-4ee03aa94ce6\" name=\"files[]\" multiple disabled\n",
       "        style=\"border:none\" />\n",
       "     <output id=\"result-3db4c661-3f0d-43b5-912f-4ee03aa94ce6\">\n",
       "      Upload widget is only available when the cell has been executed in the\n",
       "      current browser session. Please rerun this cell to enable.\n",
       "      </output>\n",
       "      <script src=\"/nbextensions/google.colab/files.js\"></script> "
      ],
      "text/plain": [
       "<IPython.core.display.HTML object>"
      ]
     },
     "metadata": {},
     "output_type": "display_data"
    },
    {
     "name": "stdout",
     "output_type": "stream",
     "text": [
      "Saving LifeExpectancy_test.csv to LifeExpectancy_test.csv\n"
     ]
    }
   ],
   "source": [
    "# Load the test set \"LifeExpectancy_test.csv\"\n",
    "### WRITE CODE ###\n",
    "\n",
    "uploaded = files.upload()\n",
    "df_test = pd.read_csv(io.BytesIO(uploaded['LifeExpectancy_test.csv']))"
   ]
  },
  {
   "cell_type": "code",
   "execution_count": 7,
   "metadata": {
    "colab": {
     "base_uri": "https://localhost:8080/",
     "height": 204
    },
    "id": "DxekDQRsJA7l",
    "outputId": "56903c36-fca3-4203-f86a-a5e18726e642"
   },
   "outputs": [
    {
     "data": {
      "text/html": [
       "<div>\n",
       "<style scoped>\n",
       "    .dataframe tbody tr th:only-of-type {\n",
       "        vertical-align: middle;\n",
       "    }\n",
       "\n",
       "    .dataframe tbody tr th {\n",
       "        vertical-align: top;\n",
       "    }\n",
       "\n",
       "    .dataframe thead th {\n",
       "        text-align: right;\n",
       "    }\n",
       "</style>\n",
       "<table border=\"1\" class=\"dataframe\">\n",
       "  <thead>\n",
       "    <tr style=\"text-align: right;\">\n",
       "      <th></th>\n",
       "      <th>Year</th>\n",
       "      <th>Status</th>\n",
       "      <th>Adult_Mortality</th>\n",
       "      <th>Alcohol</th>\n",
       "      <th>percentage_expenditure</th>\n",
       "      <th>BMI</th>\n",
       "      <th>Total_expenditure</th>\n",
       "      <th>Diphtheria</th>\n",
       "      <th>HIV_AIDS</th>\n",
       "      <th>GDP</th>\n",
       "      <th>Population</th>\n",
       "      <th>Income_composition_of_resources</th>\n",
       "      <th>Schooling</th>\n",
       "    </tr>\n",
       "  </thead>\n",
       "  <tbody>\n",
       "    <tr>\n",
       "      <th>0</th>\n",
       "      <td>2004</td>\n",
       "      <td>Developed</td>\n",
       "      <td>92</td>\n",
       "      <td>12.42</td>\n",
       "      <td>12372.051880</td>\n",
       "      <td>56.4</td>\n",
       "      <td>8.20</td>\n",
       "      <td>99</td>\n",
       "      <td>0.1</td>\n",
       "      <td>75716.35180</td>\n",
       "      <td>45895.0</td>\n",
       "      <td>0.867</td>\n",
       "      <td>13.5</td>\n",
       "    </tr>\n",
       "    <tr>\n",
       "      <th>1</th>\n",
       "      <td>2013</td>\n",
       "      <td>Developed</td>\n",
       "      <td>61</td>\n",
       "      <td>9.87</td>\n",
       "      <td>11734.853810</td>\n",
       "      <td>65.5</td>\n",
       "      <td>9.36</td>\n",
       "      <td>91</td>\n",
       "      <td>0.1</td>\n",
       "      <td>67792.33860</td>\n",
       "      <td>23117353.0</td>\n",
       "      <td>0.933</td>\n",
       "      <td>20.3</td>\n",
       "    </tr>\n",
       "    <tr>\n",
       "      <th>2</th>\n",
       "      <td>2012</td>\n",
       "      <td>Developed</td>\n",
       "      <td>57</td>\n",
       "      <td>7.40</td>\n",
       "      <td>10947.023270</td>\n",
       "      <td>58.1</td>\n",
       "      <td>11.80</td>\n",
       "      <td>98</td>\n",
       "      <td>0.1</td>\n",
       "      <td>57134.77700</td>\n",
       "      <td>9519374.0</td>\n",
       "      <td>0.903</td>\n",
       "      <td>15.8</td>\n",
       "    </tr>\n",
       "    <tr>\n",
       "      <th>3</th>\n",
       "      <td>2014</td>\n",
       "      <td>Developed</td>\n",
       "      <td>6</td>\n",
       "      <td>9.71</td>\n",
       "      <td>10769.363050</td>\n",
       "      <td>66.1</td>\n",
       "      <td>9.42</td>\n",
       "      <td>92</td>\n",
       "      <td>0.1</td>\n",
       "      <td>62214.69120</td>\n",
       "      <td>2346694.0</td>\n",
       "      <td>0.936</td>\n",
       "      <td>20.4</td>\n",
       "    </tr>\n",
       "    <tr>\n",
       "      <th>4</th>\n",
       "      <td>2008</td>\n",
       "      <td>Developed</td>\n",
       "      <td>8</td>\n",
       "      <td>11.36</td>\n",
       "      <td>8285.264655</td>\n",
       "      <td>59.0</td>\n",
       "      <td>1.39</td>\n",
       "      <td>96</td>\n",
       "      <td>0.1</td>\n",
       "      <td>45699.19832</td>\n",
       "      <td>821197.0</td>\n",
       "      <td>0.903</td>\n",
       "      <td>16.6</td>\n",
       "    </tr>\n",
       "  </tbody>\n",
       "</table>\n",
       "</div>"
      ],
      "text/plain": [
       "   Year     Status  ...  Income_composition_of_resources  Schooling\n",
       "0  2004  Developed  ...                            0.867       13.5\n",
       "1  2013  Developed  ...                            0.933       20.3\n",
       "2  2012  Developed  ...                            0.903       15.8\n",
       "3  2014  Developed  ...                            0.936       20.4\n",
       "4  2008  Developed  ...                            0.903       16.6\n",
       "\n",
       "[5 rows x 13 columns]"
      ]
     },
     "execution_count": 7,
     "metadata": {},
     "output_type": "execute_result"
    }
   ],
   "source": [
    "df_test.head()"
   ]
  },
  {
   "cell_type": "code",
   "execution_count": 8,
   "metadata": {
    "colab": {
     "base_uri": "https://localhost:8080/",
     "height": 204
    },
    "id": "xPkuQnV86g9z",
    "outputId": "46419b94-d8a1-44f7-81ea-277f3ef499b7"
   },
   "outputs": [
    {
     "data": {
      "text/html": [
       "<div>\n",
       "<style scoped>\n",
       "    .dataframe tbody tr th:only-of-type {\n",
       "        vertical-align: middle;\n",
       "    }\n",
       "\n",
       "    .dataframe tbody tr th {\n",
       "        vertical-align: top;\n",
       "    }\n",
       "\n",
       "    .dataframe thead th {\n",
       "        text-align: right;\n",
       "    }\n",
       "</style>\n",
       "<table border=\"1\" class=\"dataframe\">\n",
       "  <thead>\n",
       "    <tr style=\"text-align: right;\">\n",
       "      <th></th>\n",
       "      <th>Life_expectancy</th>\n",
       "    </tr>\n",
       "  </thead>\n",
       "  <tbody>\n",
       "    <tr>\n",
       "      <th>0</th>\n",
       "      <td>75.0</td>\n",
       "    </tr>\n",
       "    <tr>\n",
       "      <th>1</th>\n",
       "      <td>74.6</td>\n",
       "    </tr>\n",
       "    <tr>\n",
       "      <th>2</th>\n",
       "      <td>81.1</td>\n",
       "    </tr>\n",
       "    <tr>\n",
       "      <th>3</th>\n",
       "      <td>74.8</td>\n",
       "    </tr>\n",
       "    <tr>\n",
       "      <th>4</th>\n",
       "      <td>71.4</td>\n",
       "    </tr>\n",
       "  </tbody>\n",
       "</table>\n",
       "</div>"
      ],
      "text/plain": [
       "   Life_expectancy\n",
       "0             75.0\n",
       "1             74.6\n",
       "2             81.1\n",
       "3             74.8\n",
       "4             71.4"
      ]
     },
     "execution_count": 8,
     "metadata": {},
     "output_type": "execute_result"
    }
   ],
   "source": [
    "# Creating a separate dataframe for Life_expectancy which is our 'y' variable before standardization of features \n",
    "\n",
    "y = df[['Life_expectancy']]\n",
    "y.head()"
   ]
  },
  {
   "cell_type": "code",
   "execution_count": 9,
   "metadata": {
    "colab": {
     "base_uri": "https://localhost:8080/",
     "height": 204
    },
    "id": "EcpuA2_tNBFb",
    "outputId": "bbf22c55-c3c4-49bc-e8ac-267613be63bf"
   },
   "outputs": [
    {
     "data": {
      "text/html": [
       "<div>\n",
       "<style scoped>\n",
       "    .dataframe tbody tr th:only-of-type {\n",
       "        vertical-align: middle;\n",
       "    }\n",
       "\n",
       "    .dataframe tbody tr th {\n",
       "        vertical-align: top;\n",
       "    }\n",
       "\n",
       "    .dataframe thead th {\n",
       "        text-align: right;\n",
       "    }\n",
       "</style>\n",
       "<table border=\"1\" class=\"dataframe\">\n",
       "  <thead>\n",
       "    <tr style=\"text-align: right;\">\n",
       "      <th></th>\n",
       "      <th>Adult_Mortality</th>\n",
       "      <th>Alcohol</th>\n",
       "      <th>percentage_expenditure</th>\n",
       "      <th>BMI</th>\n",
       "      <th>Total_expenditure</th>\n",
       "      <th>Diphtheria</th>\n",
       "      <th>HIV_AIDS</th>\n",
       "      <th>GDP</th>\n",
       "      <th>Population</th>\n",
       "      <th>Income_composition_of_resources</th>\n",
       "      <th>Schooling</th>\n",
       "    </tr>\n",
       "  </thead>\n",
       "  <tbody>\n",
       "    <tr>\n",
       "      <th>0</th>\n",
       "      <td>93</td>\n",
       "      <td>1.57</td>\n",
       "      <td>835.062683</td>\n",
       "      <td>64.0</td>\n",
       "      <td>7.12</td>\n",
       "      <td>81</td>\n",
       "      <td>0.1</td>\n",
       "      <td>8734.96530</td>\n",
       "      <td>4588368.0</td>\n",
       "      <td>0.758</td>\n",
       "      <td>13.2</td>\n",
       "    </tr>\n",
       "    <tr>\n",
       "      <th>1</th>\n",
       "      <td>152</td>\n",
       "      <td>6.41</td>\n",
       "      <td>789.077295</td>\n",
       "      <td>32.4</td>\n",
       "      <td>4.12</td>\n",
       "      <td>99</td>\n",
       "      <td>0.1</td>\n",
       "      <td>5941.84710</td>\n",
       "      <td>68416772.0</td>\n",
       "      <td>0.737</td>\n",
       "      <td>13.6</td>\n",
       "    </tr>\n",
       "    <tr>\n",
       "      <th>2</th>\n",
       "      <td>68</td>\n",
       "      <td>11.82</td>\n",
       "      <td>90.585012</td>\n",
       "      <td>56.6</td>\n",
       "      <td>11.14</td>\n",
       "      <td>95</td>\n",
       "      <td>0.1</td>\n",
       "      <td>554.71532</td>\n",
       "      <td>8479375.0</td>\n",
       "      <td>0.887</td>\n",
       "      <td>15.7</td>\n",
       "    </tr>\n",
       "    <tr>\n",
       "      <th>3</th>\n",
       "      <td>135</td>\n",
       "      <td>0.01</td>\n",
       "      <td>1.576409</td>\n",
       "      <td>59.9</td>\n",
       "      <td>5.57</td>\n",
       "      <td>94</td>\n",
       "      <td>0.1</td>\n",
       "      <td>12.27733</td>\n",
       "      <td>1998979.0</td>\n",
       "      <td>0.797</td>\n",
       "      <td>14.7</td>\n",
       "    </tr>\n",
       "    <tr>\n",
       "      <th>4</th>\n",
       "      <td>192</td>\n",
       "      <td>5.93</td>\n",
       "      <td>27.638103</td>\n",
       "      <td>2.2</td>\n",
       "      <td>3.70</td>\n",
       "      <td>96</td>\n",
       "      <td>0.7</td>\n",
       "      <td>296.54617</td>\n",
       "      <td>6473164.0</td>\n",
       "      <td>0.657</td>\n",
       "      <td>11.5</td>\n",
       "    </tr>\n",
       "  </tbody>\n",
       "</table>\n",
       "</div>"
      ],
      "text/plain": [
       "   Adult_Mortality  Alcohol  ...  Income_composition_of_resources  Schooling\n",
       "0               93     1.57  ...                            0.758       13.2\n",
       "1              152     6.41  ...                            0.737       13.6\n",
       "2               68    11.82  ...                            0.887       15.7\n",
       "3              135     0.01  ...                            0.797       14.7\n",
       "4              192     5.93  ...                            0.657       11.5\n",
       "\n",
       "[5 rows x 11 columns]"
      ]
     },
     "execution_count": 9,
     "metadata": {},
     "output_type": "execute_result"
    }
   ],
   "source": [
    "# Dropping Year,Status and Life Expectancy from the training dataframe\n",
    "\n",
    "data_training = df.drop(['Year','Status','Life_expectancy'], axis=1)\n",
    "data_training.head()\n"
   ]
  },
  {
   "cell_type": "code",
   "execution_count": 10,
   "metadata": {
    "colab": {
     "base_uri": "https://localhost:8080/",
     "height": 204
    },
    "id": "MKMhi5e5NP_d",
    "outputId": "5b77a869-bd0a-4992-aae0-0b43ae4eb98f"
   },
   "outputs": [
    {
     "data": {
      "text/html": [
       "<div>\n",
       "<style scoped>\n",
       "    .dataframe tbody tr th:only-of-type {\n",
       "        vertical-align: middle;\n",
       "    }\n",
       "\n",
       "    .dataframe tbody tr th {\n",
       "        vertical-align: top;\n",
       "    }\n",
       "\n",
       "    .dataframe thead th {\n",
       "        text-align: right;\n",
       "    }\n",
       "</style>\n",
       "<table border=\"1\" class=\"dataframe\">\n",
       "  <thead>\n",
       "    <tr style=\"text-align: right;\">\n",
       "      <th></th>\n",
       "      <th>Adult_Mortality</th>\n",
       "      <th>Alcohol</th>\n",
       "      <th>percentage_expenditure</th>\n",
       "      <th>BMI</th>\n",
       "      <th>Total_expenditure</th>\n",
       "      <th>Diphtheria</th>\n",
       "      <th>HIV_AIDS</th>\n",
       "      <th>GDP</th>\n",
       "      <th>Population</th>\n",
       "      <th>Income_composition_of_resources</th>\n",
       "      <th>Schooling</th>\n",
       "    </tr>\n",
       "  </thead>\n",
       "  <tbody>\n",
       "    <tr>\n",
       "      <th>0</th>\n",
       "      <td>92</td>\n",
       "      <td>12.42</td>\n",
       "      <td>12372.051880</td>\n",
       "      <td>56.4</td>\n",
       "      <td>8.20</td>\n",
       "      <td>99</td>\n",
       "      <td>0.1</td>\n",
       "      <td>75716.35180</td>\n",
       "      <td>45895.0</td>\n",
       "      <td>0.867</td>\n",
       "      <td>13.5</td>\n",
       "    </tr>\n",
       "    <tr>\n",
       "      <th>1</th>\n",
       "      <td>61</td>\n",
       "      <td>9.87</td>\n",
       "      <td>11734.853810</td>\n",
       "      <td>65.5</td>\n",
       "      <td>9.36</td>\n",
       "      <td>91</td>\n",
       "      <td>0.1</td>\n",
       "      <td>67792.33860</td>\n",
       "      <td>23117353.0</td>\n",
       "      <td>0.933</td>\n",
       "      <td>20.3</td>\n",
       "    </tr>\n",
       "    <tr>\n",
       "      <th>2</th>\n",
       "      <td>57</td>\n",
       "      <td>7.40</td>\n",
       "      <td>10947.023270</td>\n",
       "      <td>58.1</td>\n",
       "      <td>11.80</td>\n",
       "      <td>98</td>\n",
       "      <td>0.1</td>\n",
       "      <td>57134.77700</td>\n",
       "      <td>9519374.0</td>\n",
       "      <td>0.903</td>\n",
       "      <td>15.8</td>\n",
       "    </tr>\n",
       "    <tr>\n",
       "      <th>3</th>\n",
       "      <td>6</td>\n",
       "      <td>9.71</td>\n",
       "      <td>10769.363050</td>\n",
       "      <td>66.1</td>\n",
       "      <td>9.42</td>\n",
       "      <td>92</td>\n",
       "      <td>0.1</td>\n",
       "      <td>62214.69120</td>\n",
       "      <td>2346694.0</td>\n",
       "      <td>0.936</td>\n",
       "      <td>20.4</td>\n",
       "    </tr>\n",
       "    <tr>\n",
       "      <th>4</th>\n",
       "      <td>8</td>\n",
       "      <td>11.36</td>\n",
       "      <td>8285.264655</td>\n",
       "      <td>59.0</td>\n",
       "      <td>1.39</td>\n",
       "      <td>96</td>\n",
       "      <td>0.1</td>\n",
       "      <td>45699.19832</td>\n",
       "      <td>821197.0</td>\n",
       "      <td>0.903</td>\n",
       "      <td>16.6</td>\n",
       "    </tr>\n",
       "  </tbody>\n",
       "</table>\n",
       "</div>"
      ],
      "text/plain": [
       "   Adult_Mortality  Alcohol  ...  Income_composition_of_resources  Schooling\n",
       "0               92    12.42  ...                            0.867       13.5\n",
       "1               61     9.87  ...                            0.933       20.3\n",
       "2               57     7.40  ...                            0.903       15.8\n",
       "3                6     9.71  ...                            0.936       20.4\n",
       "4                8    11.36  ...                            0.903       16.6\n",
       "\n",
       "[5 rows x 11 columns]"
      ]
     },
     "execution_count": 10,
     "metadata": {},
     "output_type": "execute_result"
    }
   ],
   "source": [
    "# Dropping Year and Status from the test dataframe\n",
    "\n",
    "data_test = df_test.drop(['Year','Status'], axis=1)\n",
    "data_test.head()"
   ]
  },
  {
   "cell_type": "code",
   "execution_count": 11,
   "metadata": {
    "id": "a8Hu-t4eBphh"
   },
   "outputs": [],
   "source": [
    "from sklearn.preprocessing import StandardScaler\n",
    "### WRITE CODE TO PERFORM Z-score Normalization ###\n",
    "\n",
    "# define standard scaler\n",
    "std_scaler  = StandardScaler()\n",
    "\n",
    "# transform data\n",
    "df_training_scaled = pd.DataFrame(std_scaler.fit_transform(data_training), columns=data_training.columns)\n",
    "df_test_scaled = pd.DataFrame(std_scaler.transform(data_test), columns=data_test.columns)\n",
    "\n",
    "# Using transform to apply mean and standard deviation of the training set on the test set"
   ]
  },
  {
   "cell_type": "code",
   "execution_count": 12,
   "metadata": {
    "colab": {
     "base_uri": "https://localhost:8080/",
     "height": 204
    },
    "id": "Zo_Ta_YdN9rX",
    "outputId": "d813c4fe-70ae-4bd5-f83f-d97fc3fbbd37"
   },
   "outputs": [
    {
     "data": {
      "text/html": [
       "<div>\n",
       "<style scoped>\n",
       "    .dataframe tbody tr th:only-of-type {\n",
       "        vertical-align: middle;\n",
       "    }\n",
       "\n",
       "    .dataframe tbody tr th {\n",
       "        vertical-align: top;\n",
       "    }\n",
       "\n",
       "    .dataframe thead th {\n",
       "        text-align: right;\n",
       "    }\n",
       "</style>\n",
       "<table border=\"1\" class=\"dataframe\">\n",
       "  <thead>\n",
       "    <tr style=\"text-align: right;\">\n",
       "      <th></th>\n",
       "      <th>Adult_Mortality</th>\n",
       "      <th>Alcohol</th>\n",
       "      <th>percentage_expenditure</th>\n",
       "      <th>BMI</th>\n",
       "      <th>Total_expenditure</th>\n",
       "      <th>Diphtheria</th>\n",
       "      <th>HIV_AIDS</th>\n",
       "      <th>GDP</th>\n",
       "      <th>Population</th>\n",
       "      <th>Income_composition_of_resources</th>\n",
       "      <th>Schooling</th>\n",
       "    </tr>\n",
       "  </thead>\n",
       "  <tbody>\n",
       "    <tr>\n",
       "      <th>0</th>\n",
       "      <td>-0.596230</td>\n",
       "      <td>-0.746122</td>\n",
       "      <td>0.058789</td>\n",
       "      <td>1.260316</td>\n",
       "      <td>0.455246</td>\n",
       "      <td>-0.172026</td>\n",
       "      <td>-0.304462</td>\n",
       "      <td>0.244064</td>\n",
       "      <td>-0.140504</td>\n",
       "      <td>0.668903</td>\n",
       "      <td>0.361049</td>\n",
       "    </tr>\n",
       "    <tr>\n",
       "      <th>1</th>\n",
       "      <td>-0.111399</td>\n",
       "      <td>0.462190</td>\n",
       "      <td>0.033498</td>\n",
       "      <td>-0.333480</td>\n",
       "      <td>-0.836894</td>\n",
       "      <td>0.686328</td>\n",
       "      <td>-0.304462</td>\n",
       "      <td>0.011425</td>\n",
       "      <td>0.961461</td>\n",
       "      <td>0.553909</td>\n",
       "      <td>0.505181</td>\n",
       "    </tr>\n",
       "    <tr>\n",
       "      <th>2</th>\n",
       "      <td>-0.801666</td>\n",
       "      <td>1.812804</td>\n",
       "      <td>-0.350645</td>\n",
       "      <td>0.887085</td>\n",
       "      <td>2.186713</td>\n",
       "      <td>0.495582</td>\n",
       "      <td>-0.304462</td>\n",
       "      <td>-0.437269</td>\n",
       "      <td>-0.073327</td>\n",
       "      <td>1.375298</td>\n",
       "      <td>1.261876</td>\n",
       "    </tr>\n",
       "    <tr>\n",
       "      <th>3</th>\n",
       "      <td>-0.251096</td>\n",
       "      <td>-1.135578</td>\n",
       "      <td>-0.399597</td>\n",
       "      <td>1.053526</td>\n",
       "      <td>-0.212360</td>\n",
       "      <td>0.447896</td>\n",
       "      <td>-0.304462</td>\n",
       "      <td>-0.482448</td>\n",
       "      <td>-0.185208</td>\n",
       "      <td>0.882465</td>\n",
       "      <td>0.901545</td>\n",
       "    </tr>\n",
       "    <tr>\n",
       "      <th>4</th>\n",
       "      <td>0.217300</td>\n",
       "      <td>0.342358</td>\n",
       "      <td>-0.385264</td>\n",
       "      <td>-1.856665</td>\n",
       "      <td>-1.017793</td>\n",
       "      <td>0.543269</td>\n",
       "      <td>-0.198197</td>\n",
       "      <td>-0.458771</td>\n",
       "      <td>-0.107964</td>\n",
       "      <td>0.115834</td>\n",
       "      <td>-0.251513</td>\n",
       "    </tr>\n",
       "  </tbody>\n",
       "</table>\n",
       "</div>"
      ],
      "text/plain": [
       "   Adult_Mortality   Alcohol  ...  Income_composition_of_resources  Schooling\n",
       "0        -0.596230 -0.746122  ...                         0.668903   0.361049\n",
       "1        -0.111399  0.462190  ...                         0.553909   0.505181\n",
       "2        -0.801666  1.812804  ...                         1.375298   1.261876\n",
       "3        -0.251096 -1.135578  ...                         0.882465   0.901545\n",
       "4         0.217300  0.342358  ...                         0.115834  -0.251513\n",
       "\n",
       "[5 rows x 11 columns]"
      ]
     },
     "execution_count": 12,
     "metadata": {},
     "output_type": "execute_result"
    }
   ],
   "source": [
    "df_training_scaled.head()"
   ]
  },
  {
   "cell_type": "code",
   "execution_count": null,
   "metadata": {
    "colab": {
     "base_uri": "https://localhost:8080/",
     "height": 204
    },
    "id": "wPUloD31OAvD",
    "outputId": "42efcaa8-2a4c-4db8-e6b0-ba80a5a2699d"
   },
   "outputs": [
    {
     "data": {
      "text/html": [
       "<div>\n",
       "<style scoped>\n",
       "    .dataframe tbody tr th:only-of-type {\n",
       "        vertical-align: middle;\n",
       "    }\n",
       "\n",
       "    .dataframe tbody tr th {\n",
       "        vertical-align: top;\n",
       "    }\n",
       "\n",
       "    .dataframe thead th {\n",
       "        text-align: right;\n",
       "    }\n",
       "</style>\n",
       "<table border=\"1\" class=\"dataframe\">\n",
       "  <thead>\n",
       "    <tr style=\"text-align: right;\">\n",
       "      <th></th>\n",
       "      <th>Adult_Mortality</th>\n",
       "      <th>Alcohol</th>\n",
       "      <th>percentage_expenditure</th>\n",
       "      <th>BMI</th>\n",
       "      <th>Total_expenditure</th>\n",
       "      <th>Diphtheria</th>\n",
       "      <th>HIV_AIDS</th>\n",
       "      <th>GDP</th>\n",
       "      <th>Population</th>\n",
       "      <th>Income_composition_of_resources</th>\n",
       "      <th>Schooling</th>\n",
       "    </tr>\n",
       "  </thead>\n",
       "  <tbody>\n",
       "    <tr>\n",
       "      <th>0</th>\n",
       "      <td>-0.604447</td>\n",
       "      <td>1.962594</td>\n",
       "      <td>6.403688</td>\n",
       "      <td>0.876998</td>\n",
       "      <td>0.920416</td>\n",
       "      <td>0.686328</td>\n",
       "      <td>-0.304462</td>\n",
       "      <td>5.822937</td>\n",
       "      <td>-0.218927</td>\n",
       "      <td>1.265780</td>\n",
       "      <td>0.469148</td>\n",
       "    </tr>\n",
       "    <tr>\n",
       "      <th>1</th>\n",
       "      <td>-0.859189</td>\n",
       "      <td>1.325984</td>\n",
       "      <td>6.053254</td>\n",
       "      <td>1.335970</td>\n",
       "      <td>1.420044</td>\n",
       "      <td>0.304837</td>\n",
       "      <td>-0.304462</td>\n",
       "      <td>5.162947</td>\n",
       "      <td>0.179390</td>\n",
       "      <td>1.627191</td>\n",
       "      <td>2.919397</td>\n",
       "    </tr>\n",
       "    <tr>\n",
       "      <th>2</th>\n",
       "      <td>-0.892058</td>\n",
       "      <td>0.709345</td>\n",
       "      <td>5.619977</td>\n",
       "      <td>0.962740</td>\n",
       "      <td>2.470984</td>\n",
       "      <td>0.638641</td>\n",
       "      <td>-0.304462</td>\n",
       "      <td>4.275280</td>\n",
       "      <td>-0.055372</td>\n",
       "      <td>1.462913</td>\n",
       "      <td>1.297909</td>\n",
       "    </tr>\n",
       "    <tr>\n",
       "      <th>3</th>\n",
       "      <td>-1.311150</td>\n",
       "      <td>1.286039</td>\n",
       "      <td>5.522271</td>\n",
       "      <td>1.366232</td>\n",
       "      <td>1.445887</td>\n",
       "      <td>0.352523</td>\n",
       "      <td>-0.304462</td>\n",
       "      <td>4.698385</td>\n",
       "      <td>-0.179205</td>\n",
       "      <td>1.643619</td>\n",
       "      <td>2.955430</td>\n",
       "    </tr>\n",
       "    <tr>\n",
       "      <th>4</th>\n",
       "      <td>-1.294715</td>\n",
       "      <td>1.697964</td>\n",
       "      <td>4.156113</td>\n",
       "      <td>1.008133</td>\n",
       "      <td>-2.012741</td>\n",
       "      <td>0.543269</td>\n",
       "      <td>-0.304462</td>\n",
       "      <td>3.322811</td>\n",
       "      <td>-0.205542</td>\n",
       "      <td>1.462913</td>\n",
       "      <td>1.586173</td>\n",
       "    </tr>\n",
       "  </tbody>\n",
       "</table>\n",
       "</div>"
      ],
      "text/plain": [
       "   Adult_Mortality   Alcohol  ...  Income_composition_of_resources  Schooling\n",
       "0        -0.604447  1.962594  ...                         1.265780   0.469148\n",
       "1        -0.859189  1.325984  ...                         1.627191   2.919397\n",
       "2        -0.892058  0.709345  ...                         1.462913   1.297909\n",
       "3        -1.311150  1.286039  ...                         1.643619   2.955430\n",
       "4        -1.294715  1.697964  ...                         1.462913   1.586173\n",
       "\n",
       "[5 rows x 11 columns]"
      ]
     },
     "execution_count": 45,
     "metadata": {},
     "output_type": "execute_result"
    }
   ],
   "source": [
    "df_test_scaled.head()"
   ]
  },
  {
   "cell_type": "code",
   "execution_count": null,
   "metadata": {
    "colab": {
     "base_uri": "https://localhost:8080/",
     "height": 297
    },
    "id": "cuREq9GIsk_q",
    "outputId": "02433087-0121-4dc6-e64c-56bee3aebe46"
   },
   "outputs": [
    {
     "data": {
      "text/html": [
       "<div>\n",
       "<style scoped>\n",
       "    .dataframe tbody tr th:only-of-type {\n",
       "        vertical-align: middle;\n",
       "    }\n",
       "\n",
       "    .dataframe tbody tr th {\n",
       "        vertical-align: top;\n",
       "    }\n",
       "\n",
       "    .dataframe thead th {\n",
       "        text-align: right;\n",
       "    }\n",
       "</style>\n",
       "<table border=\"1\" class=\"dataframe\">\n",
       "  <thead>\n",
       "    <tr style=\"text-align: right;\">\n",
       "      <th></th>\n",
       "      <th>Adult_Mortality</th>\n",
       "      <th>Alcohol</th>\n",
       "      <th>percentage_expenditure</th>\n",
       "      <th>BMI</th>\n",
       "      <th>Total_expenditure</th>\n",
       "      <th>Diphtheria</th>\n",
       "      <th>HIV_AIDS</th>\n",
       "      <th>GDP</th>\n",
       "      <th>Population</th>\n",
       "      <th>Income_composition_of_resources</th>\n",
       "      <th>Schooling</th>\n",
       "    </tr>\n",
       "  </thead>\n",
       "  <tbody>\n",
       "    <tr>\n",
       "      <th>count</th>\n",
       "      <td>495.000000</td>\n",
       "      <td>495.000000</td>\n",
       "      <td>495.000000</td>\n",
       "      <td>495.000000</td>\n",
       "      <td>495.000000</td>\n",
       "      <td>495.000000</td>\n",
       "      <td>495.000000</td>\n",
       "      <td>495.000000</td>\n",
       "      <td>495.000000</td>\n",
       "      <td>495.000000</td>\n",
       "      <td>495.000000</td>\n",
       "    </tr>\n",
       "    <tr>\n",
       "      <th>mean</th>\n",
       "      <td>0.072789</td>\n",
       "      <td>-0.021175</td>\n",
       "      <td>-0.053485</td>\n",
       "      <td>-0.148403</td>\n",
       "      <td>-0.153696</td>\n",
       "      <td>-0.071837</td>\n",
       "      <td>0.097236</td>\n",
       "      <td>-0.066215</td>\n",
       "      <td>0.110825</td>\n",
       "      <td>-0.078356</td>\n",
       "      <td>-0.093769</td>\n",
       "    </tr>\n",
       "    <tr>\n",
       "      <th>std</th>\n",
       "      <td>1.094361</td>\n",
       "      <td>1.019370</td>\n",
       "      <td>0.885850</td>\n",
       "      <td>0.979877</td>\n",
       "      <td>0.958922</td>\n",
       "      <td>1.092199</td>\n",
       "      <td>1.210478</td>\n",
       "      <td>0.841848</td>\n",
       "      <td>1.609953</td>\n",
       "      <td>1.006448</td>\n",
       "      <td>1.021017</td>\n",
       "    </tr>\n",
       "    <tr>\n",
       "      <th>min</th>\n",
       "      <td>-1.352237</td>\n",
       "      <td>-1.135578</td>\n",
       "      <td>-0.400464</td>\n",
       "      <td>-1.866752</td>\n",
       "      <td>-2.129034</td>\n",
       "      <td>-3.939245</td>\n",
       "      <td>-0.304462</td>\n",
       "      <td>-0.482526</td>\n",
       "      <td>-0.219714</td>\n",
       "      <td>-3.481851</td>\n",
       "      <td>-2.809861</td>\n",
       "    </tr>\n",
       "    <tr>\n",
       "      <th>25%</th>\n",
       "      <td>-0.723600</td>\n",
       "      <td>-0.985787</td>\n",
       "      <td>-0.382821</td>\n",
       "      <td>-0.999243</td>\n",
       "      <td>-0.802437</td>\n",
       "      <td>-0.315085</td>\n",
       "      <td>-0.304462</td>\n",
       "      <td>-0.448967</td>\n",
       "      <td>-0.215723</td>\n",
       "      <td>-0.743886</td>\n",
       "      <td>-0.755976</td>\n",
       "    </tr>\n",
       "    <tr>\n",
       "      <th>50%</th>\n",
       "      <td>-0.094964</td>\n",
       "      <td>-0.231840</td>\n",
       "      <td>-0.338346</td>\n",
       "      <td>-0.136778</td>\n",
       "      <td>-0.186517</td>\n",
       "      <td>0.352523</td>\n",
       "      <td>-0.304462</td>\n",
       "      <td>-0.367550</td>\n",
       "      <td>-0.192697</td>\n",
       "      <td>0.115834</td>\n",
       "      <td>-0.035315</td>\n",
       "    </tr>\n",
       "    <tr>\n",
       "      <th>75%</th>\n",
       "      <td>0.566543</td>\n",
       "      <td>0.689373</td>\n",
       "      <td>-0.125682</td>\n",
       "      <td>0.801343</td>\n",
       "      <td>0.425096</td>\n",
       "      <td>0.590955</td>\n",
       "      <td>-0.162775</td>\n",
       "      <td>-0.093505</td>\n",
       "      <td>-0.076266</td>\n",
       "      <td>0.594978</td>\n",
       "      <td>0.541214</td>\n",
       "    </tr>\n",
       "    <tr>\n",
       "      <th>max</th>\n",
       "      <td>4.531473</td>\n",
       "      <td>3.001144</td>\n",
       "      <td>6.403688</td>\n",
       "      <td>1.921035</td>\n",
       "      <td>3.586531</td>\n",
       "      <td>0.686328</td>\n",
       "      <td>8.586428</td>\n",
       "      <td>5.822937</td>\n",
       "      <td>20.146863</td>\n",
       "      <td>1.643619</td>\n",
       "      <td>3.063529</td>\n",
       "    </tr>\n",
       "  </tbody>\n",
       "</table>\n",
       "</div>"
      ],
      "text/plain": [
       "       Adult_Mortality     Alcohol  ...  Income_composition_of_resources   Schooling\n",
       "count       495.000000  495.000000  ...                       495.000000  495.000000\n",
       "mean          0.072789   -0.021175  ...                        -0.078356   -0.093769\n",
       "std           1.094361    1.019370  ...                         1.006448    1.021017\n",
       "min          -1.352237   -1.135578  ...                        -3.481851   -2.809861\n",
       "25%          -0.723600   -0.985787  ...                        -0.743886   -0.755976\n",
       "50%          -0.094964   -0.231840  ...                         0.115834   -0.035315\n",
       "75%           0.566543    0.689373  ...                         0.594978    0.541214\n",
       "max           4.531473    3.001144  ...                         1.643619    3.063529\n",
       "\n",
       "[8 rows x 11 columns]"
      ]
     },
     "execution_count": 46,
     "metadata": {},
     "output_type": "execute_result"
    }
   ],
   "source": [
    "df_test_scaled.describe()"
   ]
  },
  {
   "cell_type": "markdown",
   "metadata": {
    "id": "zwfacAsAFBbs"
   },
   "source": [
    "#####  Advantages and Disadvantages of using Z-score Normalization<br/>\n",
    "  \n",
    "Advantage - \n",
    "*   It brings the data in a similar comparison scale across all numerical fields\n",
    "*   maintains variability as the column uses its own mean and standard deviation\n",
    "\n",
    "Disadvantage - \n",
    "* It is assuming the data is normally distributed \n",
    "* Interpretation of the underlying data becomes difficult. To explain any effect the data has to be destandardized again\n"
   ]
  },
  {
   "cell_type": "markdown",
   "metadata": {
    "id": "5tr1XcvyFIcN"
   },
   "source": [
    "### One-Hot Encoding"
   ]
  },
  {
   "cell_type": "markdown",
   "metadata": {
    "id": "fyyGwM3JFS4Y"
   },
   "source": [
    "\"Year\" and \"Status\" can only take discrete values. We need to perform one-hot encoding on discrete values for it to be processed in the model. One hot encoding is a process by which categorical variables are converted into a form that could be provided to ML algorithms to do a better job in prediction.\n",
    "Perform one-hot encoding on \"Year\" and \"Status\" and print the shape of your encoded array"
   ]
  },
  {
   "cell_type": "markdown",
   "metadata": {
    "id": "0pwOFg8ZS7up"
   },
   "source": [
    "We have referenced the below article to implement encoding\n",
    "\n",
    "\n",
    "#####https://towardsdatascience.com/categorical-encoding-using-label-encoding-and-one-hot-encoder-911ef77fb5bd"
   ]
  },
  {
   "cell_type": "code",
   "execution_count": 13,
   "metadata": {
    "id": "UFk7eCd9iw0Z"
   },
   "outputs": [],
   "source": [
    "import pandas as pd\n",
    "from sklearn.preprocessing import OneHotEncoder\n",
    "\n",
    "enc = OneHotEncoder(drop='first', sparse=False)\n",
    "train_enc_cat = enc.fit_transform(df.loc[:, ['Year', 'Status']])\n",
    "train_enc_cat = pd.DataFrame(train_enc_cat, columns=enc.get_feature_names())"
   ]
  },
  {
   "cell_type": "code",
   "execution_count": 14,
   "metadata": {
    "colab": {
     "base_uri": "https://localhost:8080/",
     "height": 204
    },
    "id": "Jjt7ca-hnsXv",
    "outputId": "cedba10f-2501-4969-b929-5d1ad2db7b9c"
   },
   "outputs": [
    {
     "data": {
      "text/html": [
       "<div>\n",
       "<style scoped>\n",
       "    .dataframe tbody tr th:only-of-type {\n",
       "        vertical-align: middle;\n",
       "    }\n",
       "\n",
       "    .dataframe tbody tr th {\n",
       "        vertical-align: top;\n",
       "    }\n",
       "\n",
       "    .dataframe thead th {\n",
       "        text-align: right;\n",
       "    }\n",
       "</style>\n",
       "<table border=\"1\" class=\"dataframe\">\n",
       "  <thead>\n",
       "    <tr style=\"text-align: right;\">\n",
       "      <th></th>\n",
       "      <th>x0_2001</th>\n",
       "      <th>x0_2002</th>\n",
       "      <th>x0_2003</th>\n",
       "      <th>x0_2004</th>\n",
       "      <th>x0_2005</th>\n",
       "      <th>x0_2006</th>\n",
       "      <th>x0_2007</th>\n",
       "      <th>x0_2008</th>\n",
       "      <th>x0_2009</th>\n",
       "      <th>x0_2010</th>\n",
       "      <th>x0_2011</th>\n",
       "      <th>x0_2012</th>\n",
       "      <th>x0_2013</th>\n",
       "      <th>x0_2014</th>\n",
       "      <th>x0_2015</th>\n",
       "      <th>x1_Developing</th>\n",
       "    </tr>\n",
       "  </thead>\n",
       "  <tbody>\n",
       "    <tr>\n",
       "      <th>0</th>\n",
       "      <td>0.0</td>\n",
       "      <td>0.0</td>\n",
       "      <td>0.0</td>\n",
       "      <td>0.0</td>\n",
       "      <td>0.0</td>\n",
       "      <td>0.0</td>\n",
       "      <td>0.0</td>\n",
       "      <td>0.0</td>\n",
       "      <td>0.0</td>\n",
       "      <td>0.0</td>\n",
       "      <td>1.0</td>\n",
       "      <td>0.0</td>\n",
       "      <td>0.0</td>\n",
       "      <td>0.0</td>\n",
       "      <td>0.0</td>\n",
       "      <td>1.0</td>\n",
       "    </tr>\n",
       "    <tr>\n",
       "      <th>1</th>\n",
       "      <td>0.0</td>\n",
       "      <td>0.0</td>\n",
       "      <td>0.0</td>\n",
       "      <td>0.0</td>\n",
       "      <td>0.0</td>\n",
       "      <td>0.0</td>\n",
       "      <td>0.0</td>\n",
       "      <td>0.0</td>\n",
       "      <td>0.0</td>\n",
       "      <td>0.0</td>\n",
       "      <td>0.0</td>\n",
       "      <td>0.0</td>\n",
       "      <td>0.0</td>\n",
       "      <td>1.0</td>\n",
       "      <td>0.0</td>\n",
       "      <td>1.0</td>\n",
       "    </tr>\n",
       "    <tr>\n",
       "      <th>2</th>\n",
       "      <td>0.0</td>\n",
       "      <td>0.0</td>\n",
       "      <td>0.0</td>\n",
       "      <td>0.0</td>\n",
       "      <td>0.0</td>\n",
       "      <td>0.0</td>\n",
       "      <td>0.0</td>\n",
       "      <td>0.0</td>\n",
       "      <td>0.0</td>\n",
       "      <td>0.0</td>\n",
       "      <td>0.0</td>\n",
       "      <td>0.0</td>\n",
       "      <td>1.0</td>\n",
       "      <td>0.0</td>\n",
       "      <td>0.0</td>\n",
       "      <td>0.0</td>\n",
       "    </tr>\n",
       "    <tr>\n",
       "      <th>3</th>\n",
       "      <td>0.0</td>\n",
       "      <td>0.0</td>\n",
       "      <td>0.0</td>\n",
       "      <td>0.0</td>\n",
       "      <td>0.0</td>\n",
       "      <td>0.0</td>\n",
       "      <td>0.0</td>\n",
       "      <td>0.0</td>\n",
       "      <td>0.0</td>\n",
       "      <td>0.0</td>\n",
       "      <td>0.0</td>\n",
       "      <td>0.0</td>\n",
       "      <td>0.0</td>\n",
       "      <td>1.0</td>\n",
       "      <td>0.0</td>\n",
       "      <td>0.0</td>\n",
       "    </tr>\n",
       "    <tr>\n",
       "      <th>4</th>\n",
       "      <td>0.0</td>\n",
       "      <td>1.0</td>\n",
       "      <td>0.0</td>\n",
       "      <td>0.0</td>\n",
       "      <td>0.0</td>\n",
       "      <td>0.0</td>\n",
       "      <td>0.0</td>\n",
       "      <td>0.0</td>\n",
       "      <td>0.0</td>\n",
       "      <td>0.0</td>\n",
       "      <td>0.0</td>\n",
       "      <td>0.0</td>\n",
       "      <td>0.0</td>\n",
       "      <td>0.0</td>\n",
       "      <td>0.0</td>\n",
       "      <td>1.0</td>\n",
       "    </tr>\n",
       "  </tbody>\n",
       "</table>\n",
       "</div>"
      ],
      "text/plain": [
       "   x0_2001  x0_2002  x0_2003  x0_2004  ...  x0_2013  x0_2014  x0_2015  x1_Developing\n",
       "0      0.0      0.0      0.0      0.0  ...      0.0      0.0      0.0            1.0\n",
       "1      0.0      0.0      0.0      0.0  ...      0.0      1.0      0.0            1.0\n",
       "2      0.0      0.0      0.0      0.0  ...      1.0      0.0      0.0            0.0\n",
       "3      0.0      0.0      0.0      0.0  ...      0.0      1.0      0.0            0.0\n",
       "4      0.0      1.0      0.0      0.0  ...      0.0      0.0      0.0            1.0\n",
       "\n",
       "[5 rows x 16 columns]"
      ]
     },
     "execution_count": 14,
     "metadata": {},
     "output_type": "execute_result"
    }
   ],
   "source": [
    "train_enc_cat.head()"
   ]
  },
  {
   "cell_type": "code",
   "execution_count": 15,
   "metadata": {
    "colab": {
     "base_uri": "https://localhost:8080/",
     "height": 204
    },
    "id": "UF7ItE6OpjFX",
    "outputId": "1ddbf1d7-a286-4b3a-dd4a-ead0b66596bd"
   },
   "outputs": [
    {
     "data": {
      "text/html": [
       "<div>\n",
       "<style scoped>\n",
       "    .dataframe tbody tr th:only-of-type {\n",
       "        vertical-align: middle;\n",
       "    }\n",
       "\n",
       "    .dataframe tbody tr th {\n",
       "        vertical-align: top;\n",
       "    }\n",
       "\n",
       "    .dataframe thead th {\n",
       "        text-align: right;\n",
       "    }\n",
       "</style>\n",
       "<table border=\"1\" class=\"dataframe\">\n",
       "  <thead>\n",
       "    <tr style=\"text-align: right;\">\n",
       "      <th></th>\n",
       "      <th>x0_2001</th>\n",
       "      <th>x0_2002</th>\n",
       "      <th>x0_2003</th>\n",
       "      <th>x0_2004</th>\n",
       "      <th>x0_2005</th>\n",
       "      <th>x0_2006</th>\n",
       "      <th>x0_2007</th>\n",
       "      <th>x0_2008</th>\n",
       "      <th>x0_2009</th>\n",
       "      <th>x0_2010</th>\n",
       "      <th>x0_2011</th>\n",
       "      <th>x0_2012</th>\n",
       "      <th>x0_2013</th>\n",
       "      <th>x0_2014</th>\n",
       "      <th>x0_2015</th>\n",
       "      <th>x1_Developing</th>\n",
       "    </tr>\n",
       "  </thead>\n",
       "  <tbody>\n",
       "    <tr>\n",
       "      <th>0</th>\n",
       "      <td>0.0</td>\n",
       "      <td>0.0</td>\n",
       "      <td>0.0</td>\n",
       "      <td>1.0</td>\n",
       "      <td>0.0</td>\n",
       "      <td>0.0</td>\n",
       "      <td>0.0</td>\n",
       "      <td>0.0</td>\n",
       "      <td>0.0</td>\n",
       "      <td>0.0</td>\n",
       "      <td>0.0</td>\n",
       "      <td>0.0</td>\n",
       "      <td>0.0</td>\n",
       "      <td>0.0</td>\n",
       "      <td>0.0</td>\n",
       "      <td>0.0</td>\n",
       "    </tr>\n",
       "    <tr>\n",
       "      <th>1</th>\n",
       "      <td>0.0</td>\n",
       "      <td>0.0</td>\n",
       "      <td>0.0</td>\n",
       "      <td>0.0</td>\n",
       "      <td>0.0</td>\n",
       "      <td>0.0</td>\n",
       "      <td>0.0</td>\n",
       "      <td>0.0</td>\n",
       "      <td>0.0</td>\n",
       "      <td>0.0</td>\n",
       "      <td>0.0</td>\n",
       "      <td>0.0</td>\n",
       "      <td>1.0</td>\n",
       "      <td>0.0</td>\n",
       "      <td>0.0</td>\n",
       "      <td>0.0</td>\n",
       "    </tr>\n",
       "    <tr>\n",
       "      <th>2</th>\n",
       "      <td>0.0</td>\n",
       "      <td>0.0</td>\n",
       "      <td>0.0</td>\n",
       "      <td>0.0</td>\n",
       "      <td>0.0</td>\n",
       "      <td>0.0</td>\n",
       "      <td>0.0</td>\n",
       "      <td>0.0</td>\n",
       "      <td>0.0</td>\n",
       "      <td>0.0</td>\n",
       "      <td>0.0</td>\n",
       "      <td>1.0</td>\n",
       "      <td>0.0</td>\n",
       "      <td>0.0</td>\n",
       "      <td>0.0</td>\n",
       "      <td>0.0</td>\n",
       "    </tr>\n",
       "    <tr>\n",
       "      <th>3</th>\n",
       "      <td>0.0</td>\n",
       "      <td>0.0</td>\n",
       "      <td>0.0</td>\n",
       "      <td>0.0</td>\n",
       "      <td>0.0</td>\n",
       "      <td>0.0</td>\n",
       "      <td>0.0</td>\n",
       "      <td>0.0</td>\n",
       "      <td>0.0</td>\n",
       "      <td>0.0</td>\n",
       "      <td>0.0</td>\n",
       "      <td>0.0</td>\n",
       "      <td>0.0</td>\n",
       "      <td>1.0</td>\n",
       "      <td>0.0</td>\n",
       "      <td>0.0</td>\n",
       "    </tr>\n",
       "    <tr>\n",
       "      <th>4</th>\n",
       "      <td>0.0</td>\n",
       "      <td>0.0</td>\n",
       "      <td>0.0</td>\n",
       "      <td>0.0</td>\n",
       "      <td>0.0</td>\n",
       "      <td>0.0</td>\n",
       "      <td>0.0</td>\n",
       "      <td>1.0</td>\n",
       "      <td>0.0</td>\n",
       "      <td>0.0</td>\n",
       "      <td>0.0</td>\n",
       "      <td>0.0</td>\n",
       "      <td>0.0</td>\n",
       "      <td>0.0</td>\n",
       "      <td>0.0</td>\n",
       "      <td>0.0</td>\n",
       "    </tr>\n",
       "  </tbody>\n",
       "</table>\n",
       "</div>"
      ],
      "text/plain": [
       "   x0_2001  x0_2002  x0_2003  x0_2004  ...  x0_2013  x0_2014  x0_2015  x1_Developing\n",
       "0      0.0      0.0      0.0      1.0  ...      0.0      0.0      0.0            0.0\n",
       "1      0.0      0.0      0.0      0.0  ...      1.0      0.0      0.0            0.0\n",
       "2      0.0      0.0      0.0      0.0  ...      0.0      0.0      0.0            0.0\n",
       "3      0.0      0.0      0.0      0.0  ...      0.0      1.0      0.0            0.0\n",
       "4      0.0      0.0      0.0      0.0  ...      0.0      0.0      0.0            0.0\n",
       "\n",
       "[5 rows x 16 columns]"
      ]
     },
     "execution_count": 15,
     "metadata": {},
     "output_type": "execute_result"
    }
   ],
   "source": [
    "#Applying the same one hot encoding on the Test dataset \n",
    "\n",
    "test_enc_cat = enc.transform(df_test.loc[:, ['Year', 'Status']])\n",
    "test_enc_cat = pd.DataFrame(test_enc_cat, columns=enc.get_feature_names())\n",
    "test_enc_cat.head()"
   ]
  },
  {
   "cell_type": "code",
   "execution_count": 16,
   "metadata": {
    "colab": {
     "base_uri": "https://localhost:8080/"
    },
    "id": "1TIJsin6p3nE",
    "outputId": "8cfc6c37-51e5-4707-935f-2665b1ccbb8c"
   },
   "outputs": [
    {
     "name": "stdout",
     "output_type": "stream",
     "text": [
      "Training:  (1154, 16)\n",
      "Testing:  (495, 16)\n"
     ]
    }
   ],
   "source": [
    "# Print the shape of your encoded X\n",
    "print('Training: ', train_enc_cat.shape)\n",
    "print('Testing: ', test_enc_cat.shape)"
   ]
  },
  {
   "cell_type": "markdown",
   "metadata": {
    "id": "gHkcu_xrqKwk"
   },
   "source": [
    "**Combining the Normalized dataset and the One hot encoded dataset**"
   ]
  },
  {
   "cell_type": "markdown",
   "metadata": {
    "id": "3hFA4nru-wkc"
   },
   "source": [
    "drop='first' command in the Onehot Encoder takes care of the multicolliniarity brought on by dummy variables"
   ]
  },
  {
   "cell_type": "code",
   "execution_count": 17,
   "metadata": {
    "colab": {
     "base_uri": "https://localhost:8080/",
     "height": 224
    },
    "id": "zYSAxg15quks",
    "outputId": "fe83ee4c-4b51-46a8-e713-d97f0e37abac"
   },
   "outputs": [
    {
     "data": {
      "text/html": [
       "<div>\n",
       "<style scoped>\n",
       "    .dataframe tbody tr th:only-of-type {\n",
       "        vertical-align: middle;\n",
       "    }\n",
       "\n",
       "    .dataframe tbody tr th {\n",
       "        vertical-align: top;\n",
       "    }\n",
       "\n",
       "    .dataframe thead th {\n",
       "        text-align: right;\n",
       "    }\n",
       "</style>\n",
       "<table border=\"1\" class=\"dataframe\">\n",
       "  <thead>\n",
       "    <tr style=\"text-align: right;\">\n",
       "      <th></th>\n",
       "      <th>x0_2001</th>\n",
       "      <th>x0_2002</th>\n",
       "      <th>x0_2003</th>\n",
       "      <th>x0_2004</th>\n",
       "      <th>x0_2005</th>\n",
       "      <th>x0_2006</th>\n",
       "      <th>x0_2007</th>\n",
       "      <th>x0_2008</th>\n",
       "      <th>x0_2009</th>\n",
       "      <th>x0_2010</th>\n",
       "      <th>x0_2011</th>\n",
       "      <th>x0_2012</th>\n",
       "      <th>x0_2013</th>\n",
       "      <th>x0_2014</th>\n",
       "      <th>x0_2015</th>\n",
       "      <th>x1_Developing</th>\n",
       "      <th>Adult_Mortality</th>\n",
       "      <th>Alcohol</th>\n",
       "      <th>percentage_expenditure</th>\n",
       "      <th>BMI</th>\n",
       "      <th>Total_expenditure</th>\n",
       "      <th>Diphtheria</th>\n",
       "      <th>HIV_AIDS</th>\n",
       "      <th>GDP</th>\n",
       "      <th>Population</th>\n",
       "      <th>Income_composition_of_resources</th>\n",
       "      <th>Schooling</th>\n",
       "    </tr>\n",
       "  </thead>\n",
       "  <tbody>\n",
       "    <tr>\n",
       "      <th>0</th>\n",
       "      <td>0.0</td>\n",
       "      <td>0.0</td>\n",
       "      <td>0.0</td>\n",
       "      <td>0.0</td>\n",
       "      <td>0.0</td>\n",
       "      <td>0.0</td>\n",
       "      <td>0.0</td>\n",
       "      <td>0.0</td>\n",
       "      <td>0.0</td>\n",
       "      <td>0.0</td>\n",
       "      <td>1.0</td>\n",
       "      <td>0.0</td>\n",
       "      <td>0.0</td>\n",
       "      <td>0.0</td>\n",
       "      <td>0.0</td>\n",
       "      <td>1.0</td>\n",
       "      <td>-0.596230</td>\n",
       "      <td>-0.746122</td>\n",
       "      <td>0.058789</td>\n",
       "      <td>1.260316</td>\n",
       "      <td>0.455246</td>\n",
       "      <td>-0.172026</td>\n",
       "      <td>-0.304462</td>\n",
       "      <td>0.244064</td>\n",
       "      <td>-0.140504</td>\n",
       "      <td>0.668903</td>\n",
       "      <td>0.361049</td>\n",
       "    </tr>\n",
       "    <tr>\n",
       "      <th>1</th>\n",
       "      <td>0.0</td>\n",
       "      <td>0.0</td>\n",
       "      <td>0.0</td>\n",
       "      <td>0.0</td>\n",
       "      <td>0.0</td>\n",
       "      <td>0.0</td>\n",
       "      <td>0.0</td>\n",
       "      <td>0.0</td>\n",
       "      <td>0.0</td>\n",
       "      <td>0.0</td>\n",
       "      <td>0.0</td>\n",
       "      <td>0.0</td>\n",
       "      <td>0.0</td>\n",
       "      <td>1.0</td>\n",
       "      <td>0.0</td>\n",
       "      <td>1.0</td>\n",
       "      <td>-0.111399</td>\n",
       "      <td>0.462190</td>\n",
       "      <td>0.033498</td>\n",
       "      <td>-0.333480</td>\n",
       "      <td>-0.836894</td>\n",
       "      <td>0.686328</td>\n",
       "      <td>-0.304462</td>\n",
       "      <td>0.011425</td>\n",
       "      <td>0.961461</td>\n",
       "      <td>0.553909</td>\n",
       "      <td>0.505181</td>\n",
       "    </tr>\n",
       "    <tr>\n",
       "      <th>2</th>\n",
       "      <td>0.0</td>\n",
       "      <td>0.0</td>\n",
       "      <td>0.0</td>\n",
       "      <td>0.0</td>\n",
       "      <td>0.0</td>\n",
       "      <td>0.0</td>\n",
       "      <td>0.0</td>\n",
       "      <td>0.0</td>\n",
       "      <td>0.0</td>\n",
       "      <td>0.0</td>\n",
       "      <td>0.0</td>\n",
       "      <td>0.0</td>\n",
       "      <td>1.0</td>\n",
       "      <td>0.0</td>\n",
       "      <td>0.0</td>\n",
       "      <td>0.0</td>\n",
       "      <td>-0.801666</td>\n",
       "      <td>1.812804</td>\n",
       "      <td>-0.350645</td>\n",
       "      <td>0.887085</td>\n",
       "      <td>2.186713</td>\n",
       "      <td>0.495582</td>\n",
       "      <td>-0.304462</td>\n",
       "      <td>-0.437269</td>\n",
       "      <td>-0.073327</td>\n",
       "      <td>1.375298</td>\n",
       "      <td>1.261876</td>\n",
       "    </tr>\n",
       "    <tr>\n",
       "      <th>3</th>\n",
       "      <td>0.0</td>\n",
       "      <td>0.0</td>\n",
       "      <td>0.0</td>\n",
       "      <td>0.0</td>\n",
       "      <td>0.0</td>\n",
       "      <td>0.0</td>\n",
       "      <td>0.0</td>\n",
       "      <td>0.0</td>\n",
       "      <td>0.0</td>\n",
       "      <td>0.0</td>\n",
       "      <td>0.0</td>\n",
       "      <td>0.0</td>\n",
       "      <td>0.0</td>\n",
       "      <td>1.0</td>\n",
       "      <td>0.0</td>\n",
       "      <td>0.0</td>\n",
       "      <td>-0.251096</td>\n",
       "      <td>-1.135578</td>\n",
       "      <td>-0.399597</td>\n",
       "      <td>1.053526</td>\n",
       "      <td>-0.212360</td>\n",
       "      <td>0.447896</td>\n",
       "      <td>-0.304462</td>\n",
       "      <td>-0.482448</td>\n",
       "      <td>-0.185208</td>\n",
       "      <td>0.882465</td>\n",
       "      <td>0.901545</td>\n",
       "    </tr>\n",
       "    <tr>\n",
       "      <th>4</th>\n",
       "      <td>0.0</td>\n",
       "      <td>1.0</td>\n",
       "      <td>0.0</td>\n",
       "      <td>0.0</td>\n",
       "      <td>0.0</td>\n",
       "      <td>0.0</td>\n",
       "      <td>0.0</td>\n",
       "      <td>0.0</td>\n",
       "      <td>0.0</td>\n",
       "      <td>0.0</td>\n",
       "      <td>0.0</td>\n",
       "      <td>0.0</td>\n",
       "      <td>0.0</td>\n",
       "      <td>0.0</td>\n",
       "      <td>0.0</td>\n",
       "      <td>1.0</td>\n",
       "      <td>0.217300</td>\n",
       "      <td>0.342358</td>\n",
       "      <td>-0.385264</td>\n",
       "      <td>-1.856665</td>\n",
       "      <td>-1.017793</td>\n",
       "      <td>0.543269</td>\n",
       "      <td>-0.198197</td>\n",
       "      <td>-0.458771</td>\n",
       "      <td>-0.107964</td>\n",
       "      <td>0.115834</td>\n",
       "      <td>-0.251513</td>\n",
       "    </tr>\n",
       "  </tbody>\n",
       "</table>\n",
       "</div>"
      ],
      "text/plain": [
       "   x0_2001  x0_2002  ...  Income_composition_of_resources  Schooling\n",
       "0      0.0      0.0  ...                         0.668903   0.361049\n",
       "1      0.0      0.0  ...                         0.553909   0.505181\n",
       "2      0.0      0.0  ...                         1.375298   1.261876\n",
       "3      0.0      0.0  ...                         0.882465   0.901545\n",
       "4      0.0      1.0  ...                         0.115834  -0.251513\n",
       "\n",
       "[5 rows x 27 columns]"
      ]
     },
     "execution_count": 17,
     "metadata": {},
     "output_type": "execute_result"
    }
   ],
   "source": [
    "training_processed = pd.concat([train_enc_cat,df_training_scaled], axis=1)\n",
    "training_processed.head()"
   ]
  },
  {
   "cell_type": "code",
   "execution_count": 18,
   "metadata": {
    "colab": {
     "base_uri": "https://localhost:8080/",
     "height": 224
    },
    "id": "doGMhpHbqk9w",
    "outputId": "f46d7691-8936-4f9b-be96-7d16037d19bb"
   },
   "outputs": [
    {
     "data": {
      "text/html": [
       "<div>\n",
       "<style scoped>\n",
       "    .dataframe tbody tr th:only-of-type {\n",
       "        vertical-align: middle;\n",
       "    }\n",
       "\n",
       "    .dataframe tbody tr th {\n",
       "        vertical-align: top;\n",
       "    }\n",
       "\n",
       "    .dataframe thead th {\n",
       "        text-align: right;\n",
       "    }\n",
       "</style>\n",
       "<table border=\"1\" class=\"dataframe\">\n",
       "  <thead>\n",
       "    <tr style=\"text-align: right;\">\n",
       "      <th></th>\n",
       "      <th>x0_2001</th>\n",
       "      <th>x0_2002</th>\n",
       "      <th>x0_2003</th>\n",
       "      <th>x0_2004</th>\n",
       "      <th>x0_2005</th>\n",
       "      <th>x0_2006</th>\n",
       "      <th>x0_2007</th>\n",
       "      <th>x0_2008</th>\n",
       "      <th>x0_2009</th>\n",
       "      <th>x0_2010</th>\n",
       "      <th>x0_2011</th>\n",
       "      <th>x0_2012</th>\n",
       "      <th>x0_2013</th>\n",
       "      <th>x0_2014</th>\n",
       "      <th>x0_2015</th>\n",
       "      <th>x1_Developing</th>\n",
       "      <th>Adult_Mortality</th>\n",
       "      <th>Alcohol</th>\n",
       "      <th>percentage_expenditure</th>\n",
       "      <th>BMI</th>\n",
       "      <th>Total_expenditure</th>\n",
       "      <th>Diphtheria</th>\n",
       "      <th>HIV_AIDS</th>\n",
       "      <th>GDP</th>\n",
       "      <th>Population</th>\n",
       "      <th>Income_composition_of_resources</th>\n",
       "      <th>Schooling</th>\n",
       "    </tr>\n",
       "  </thead>\n",
       "  <tbody>\n",
       "    <tr>\n",
       "      <th>0</th>\n",
       "      <td>0.0</td>\n",
       "      <td>0.0</td>\n",
       "      <td>0.0</td>\n",
       "      <td>1.0</td>\n",
       "      <td>0.0</td>\n",
       "      <td>0.0</td>\n",
       "      <td>0.0</td>\n",
       "      <td>0.0</td>\n",
       "      <td>0.0</td>\n",
       "      <td>0.0</td>\n",
       "      <td>0.0</td>\n",
       "      <td>0.0</td>\n",
       "      <td>0.0</td>\n",
       "      <td>0.0</td>\n",
       "      <td>0.0</td>\n",
       "      <td>0.0</td>\n",
       "      <td>-0.604447</td>\n",
       "      <td>1.962594</td>\n",
       "      <td>6.403688</td>\n",
       "      <td>0.876998</td>\n",
       "      <td>0.920416</td>\n",
       "      <td>0.686328</td>\n",
       "      <td>-0.304462</td>\n",
       "      <td>5.822937</td>\n",
       "      <td>-0.218927</td>\n",
       "      <td>1.265780</td>\n",
       "      <td>0.469148</td>\n",
       "    </tr>\n",
       "    <tr>\n",
       "      <th>1</th>\n",
       "      <td>0.0</td>\n",
       "      <td>0.0</td>\n",
       "      <td>0.0</td>\n",
       "      <td>0.0</td>\n",
       "      <td>0.0</td>\n",
       "      <td>0.0</td>\n",
       "      <td>0.0</td>\n",
       "      <td>0.0</td>\n",
       "      <td>0.0</td>\n",
       "      <td>0.0</td>\n",
       "      <td>0.0</td>\n",
       "      <td>0.0</td>\n",
       "      <td>1.0</td>\n",
       "      <td>0.0</td>\n",
       "      <td>0.0</td>\n",
       "      <td>0.0</td>\n",
       "      <td>-0.859189</td>\n",
       "      <td>1.325984</td>\n",
       "      <td>6.053254</td>\n",
       "      <td>1.335970</td>\n",
       "      <td>1.420044</td>\n",
       "      <td>0.304837</td>\n",
       "      <td>-0.304462</td>\n",
       "      <td>5.162947</td>\n",
       "      <td>0.179390</td>\n",
       "      <td>1.627191</td>\n",
       "      <td>2.919397</td>\n",
       "    </tr>\n",
       "    <tr>\n",
       "      <th>2</th>\n",
       "      <td>0.0</td>\n",
       "      <td>0.0</td>\n",
       "      <td>0.0</td>\n",
       "      <td>0.0</td>\n",
       "      <td>0.0</td>\n",
       "      <td>0.0</td>\n",
       "      <td>0.0</td>\n",
       "      <td>0.0</td>\n",
       "      <td>0.0</td>\n",
       "      <td>0.0</td>\n",
       "      <td>0.0</td>\n",
       "      <td>1.0</td>\n",
       "      <td>0.0</td>\n",
       "      <td>0.0</td>\n",
       "      <td>0.0</td>\n",
       "      <td>0.0</td>\n",
       "      <td>-0.892058</td>\n",
       "      <td>0.709345</td>\n",
       "      <td>5.619977</td>\n",
       "      <td>0.962740</td>\n",
       "      <td>2.470984</td>\n",
       "      <td>0.638641</td>\n",
       "      <td>-0.304462</td>\n",
       "      <td>4.275280</td>\n",
       "      <td>-0.055372</td>\n",
       "      <td>1.462913</td>\n",
       "      <td>1.297909</td>\n",
       "    </tr>\n",
       "    <tr>\n",
       "      <th>3</th>\n",
       "      <td>0.0</td>\n",
       "      <td>0.0</td>\n",
       "      <td>0.0</td>\n",
       "      <td>0.0</td>\n",
       "      <td>0.0</td>\n",
       "      <td>0.0</td>\n",
       "      <td>0.0</td>\n",
       "      <td>0.0</td>\n",
       "      <td>0.0</td>\n",
       "      <td>0.0</td>\n",
       "      <td>0.0</td>\n",
       "      <td>0.0</td>\n",
       "      <td>0.0</td>\n",
       "      <td>1.0</td>\n",
       "      <td>0.0</td>\n",
       "      <td>0.0</td>\n",
       "      <td>-1.311150</td>\n",
       "      <td>1.286039</td>\n",
       "      <td>5.522271</td>\n",
       "      <td>1.366232</td>\n",
       "      <td>1.445887</td>\n",
       "      <td>0.352523</td>\n",
       "      <td>-0.304462</td>\n",
       "      <td>4.698385</td>\n",
       "      <td>-0.179205</td>\n",
       "      <td>1.643619</td>\n",
       "      <td>2.955430</td>\n",
       "    </tr>\n",
       "    <tr>\n",
       "      <th>4</th>\n",
       "      <td>0.0</td>\n",
       "      <td>0.0</td>\n",
       "      <td>0.0</td>\n",
       "      <td>0.0</td>\n",
       "      <td>0.0</td>\n",
       "      <td>0.0</td>\n",
       "      <td>0.0</td>\n",
       "      <td>1.0</td>\n",
       "      <td>0.0</td>\n",
       "      <td>0.0</td>\n",
       "      <td>0.0</td>\n",
       "      <td>0.0</td>\n",
       "      <td>0.0</td>\n",
       "      <td>0.0</td>\n",
       "      <td>0.0</td>\n",
       "      <td>0.0</td>\n",
       "      <td>-1.294715</td>\n",
       "      <td>1.697964</td>\n",
       "      <td>4.156113</td>\n",
       "      <td>1.008133</td>\n",
       "      <td>-2.012741</td>\n",
       "      <td>0.543269</td>\n",
       "      <td>-0.304462</td>\n",
       "      <td>3.322811</td>\n",
       "      <td>-0.205542</td>\n",
       "      <td>1.462913</td>\n",
       "      <td>1.586173</td>\n",
       "    </tr>\n",
       "  </tbody>\n",
       "</table>\n",
       "</div>"
      ],
      "text/plain": [
       "   x0_2001  x0_2002  ...  Income_composition_of_resources  Schooling\n",
       "0      0.0      0.0  ...                         1.265780   0.469148\n",
       "1      0.0      0.0  ...                         1.627191   2.919397\n",
       "2      0.0      0.0  ...                         1.462913   1.297909\n",
       "3      0.0      0.0  ...                         1.643619   2.955430\n",
       "4      0.0      0.0  ...                         1.462913   1.586173\n",
       "\n",
       "[5 rows x 27 columns]"
      ]
     },
     "execution_count": 18,
     "metadata": {},
     "output_type": "execute_result"
    }
   ],
   "source": [
    "testing_processed = pd.concat([test_enc_cat,df_test_scaled], axis=1)\n",
    "testing_processed.head()"
   ]
  },
  {
   "cell_type": "markdown",
   "metadata": {
    "id": "IvbDqp5bJ-Xx"
   },
   "source": [
    "Q7. What are the advantages and disadvantages of using One-hot encoding?\n",
    "\n",
    "Ans- \n",
    "Advantage - \n",
    "*   Unlike label encoder which gives data in ordinal scale, one hot encoder gives values in categorical value which has no natural order in the data \n",
    "\n",
    "Disadvantage - \n",
    "* The feature space can blow up really quickly, when there are more categories. This results in high cardinality  \n"
   ]
  },
  {
   "cell_type": "markdown",
   "metadata": {
    "id": "Fp5S0WizKI0g"
   },
   "source": [
    "## Multiple Linear Regression\n",
    "\n",
    "Using multiple regression accounts for the covariances between predictors.\n",
    "\n",
    "While the algorithmic solution to multiple regression exists, it is easier to conceptualize in terms of linear algebra. The optimal $\\hat{\\beta}$ vector that minimizes the residual sum of squares is:\n",
    "\n",
    "$\\hat{\\beta} = (X^TX)^{-1}X^Ty $\n"
   ]
  },
  {
   "cell_type": "code",
   "execution_count": 19,
   "metadata": {
    "colab": {
     "base_uri": "https://localhost:8080/",
     "height": 204
    },
    "id": "kIiWUbBh6moq",
    "outputId": "f0037c87-5007-4258-ed27-d9b7c356bbb8"
   },
   "outputs": [
    {
     "data": {
      "text/html": [
       "<div>\n",
       "<style scoped>\n",
       "    .dataframe tbody tr th:only-of-type {\n",
       "        vertical-align: middle;\n",
       "    }\n",
       "\n",
       "    .dataframe tbody tr th {\n",
       "        vertical-align: top;\n",
       "    }\n",
       "\n",
       "    .dataframe thead th {\n",
       "        text-align: right;\n",
       "    }\n",
       "</style>\n",
       "<table border=\"1\" class=\"dataframe\">\n",
       "  <thead>\n",
       "    <tr style=\"text-align: right;\">\n",
       "      <th></th>\n",
       "      <th>Life_expectancy</th>\n",
       "    </tr>\n",
       "  </thead>\n",
       "  <tbody>\n",
       "    <tr>\n",
       "      <th>0</th>\n",
       "      <td>75.0</td>\n",
       "    </tr>\n",
       "    <tr>\n",
       "      <th>1</th>\n",
       "      <td>74.6</td>\n",
       "    </tr>\n",
       "    <tr>\n",
       "      <th>2</th>\n",
       "      <td>81.1</td>\n",
       "    </tr>\n",
       "    <tr>\n",
       "      <th>3</th>\n",
       "      <td>74.8</td>\n",
       "    </tr>\n",
       "    <tr>\n",
       "      <th>4</th>\n",
       "      <td>71.4</td>\n",
       "    </tr>\n",
       "  </tbody>\n",
       "</table>\n",
       "</div>"
      ],
      "text/plain": [
       "   Life_expectancy\n",
       "0             75.0\n",
       "1             74.6\n",
       "2             81.1\n",
       "3             74.8\n",
       "4             71.4"
      ]
     },
     "execution_count": 19,
     "metadata": {},
     "output_type": "execute_result"
    }
   ],
   "source": [
    "y.head()"
   ]
  },
  {
   "cell_type": "code",
   "execution_count": 20,
   "metadata": {
    "colab": {
     "base_uri": "https://localhost:8080/",
     "height": 224
    },
    "id": "Zic2Y-nH7Igj",
    "outputId": "47eba2be-b5b4-45f6-edb6-0b920a2652e1"
   },
   "outputs": [
    {
     "data": {
      "text/html": [
       "<div>\n",
       "<style scoped>\n",
       "    .dataframe tbody tr th:only-of-type {\n",
       "        vertical-align: middle;\n",
       "    }\n",
       "\n",
       "    .dataframe tbody tr th {\n",
       "        vertical-align: top;\n",
       "    }\n",
       "\n",
       "    .dataframe thead th {\n",
       "        text-align: right;\n",
       "    }\n",
       "</style>\n",
       "<table border=\"1\" class=\"dataframe\">\n",
       "  <thead>\n",
       "    <tr style=\"text-align: right;\">\n",
       "      <th></th>\n",
       "      <th>x0_2001</th>\n",
       "      <th>x0_2002</th>\n",
       "      <th>x0_2003</th>\n",
       "      <th>x0_2004</th>\n",
       "      <th>x0_2005</th>\n",
       "      <th>x0_2006</th>\n",
       "      <th>x0_2007</th>\n",
       "      <th>x0_2008</th>\n",
       "      <th>x0_2009</th>\n",
       "      <th>x0_2010</th>\n",
       "      <th>x0_2011</th>\n",
       "      <th>x0_2012</th>\n",
       "      <th>x0_2013</th>\n",
       "      <th>x0_2014</th>\n",
       "      <th>x0_2015</th>\n",
       "      <th>x1_Developing</th>\n",
       "      <th>Adult_Mortality</th>\n",
       "      <th>Alcohol</th>\n",
       "      <th>percentage_expenditure</th>\n",
       "      <th>BMI</th>\n",
       "      <th>Total_expenditure</th>\n",
       "      <th>Diphtheria</th>\n",
       "      <th>HIV_AIDS</th>\n",
       "      <th>GDP</th>\n",
       "      <th>Population</th>\n",
       "      <th>Income_composition_of_resources</th>\n",
       "      <th>Schooling</th>\n",
       "    </tr>\n",
       "  </thead>\n",
       "  <tbody>\n",
       "    <tr>\n",
       "      <th>0</th>\n",
       "      <td>0.0</td>\n",
       "      <td>0.0</td>\n",
       "      <td>0.0</td>\n",
       "      <td>0.0</td>\n",
       "      <td>0.0</td>\n",
       "      <td>0.0</td>\n",
       "      <td>0.0</td>\n",
       "      <td>0.0</td>\n",
       "      <td>0.0</td>\n",
       "      <td>0.0</td>\n",
       "      <td>1.0</td>\n",
       "      <td>0.0</td>\n",
       "      <td>0.0</td>\n",
       "      <td>0.0</td>\n",
       "      <td>0.0</td>\n",
       "      <td>1.0</td>\n",
       "      <td>-0.596230</td>\n",
       "      <td>-0.746122</td>\n",
       "      <td>0.058789</td>\n",
       "      <td>1.260316</td>\n",
       "      <td>0.455246</td>\n",
       "      <td>-0.172026</td>\n",
       "      <td>-0.304462</td>\n",
       "      <td>0.244064</td>\n",
       "      <td>-0.140504</td>\n",
       "      <td>0.668903</td>\n",
       "      <td>0.361049</td>\n",
       "    </tr>\n",
       "    <tr>\n",
       "      <th>1</th>\n",
       "      <td>0.0</td>\n",
       "      <td>0.0</td>\n",
       "      <td>0.0</td>\n",
       "      <td>0.0</td>\n",
       "      <td>0.0</td>\n",
       "      <td>0.0</td>\n",
       "      <td>0.0</td>\n",
       "      <td>0.0</td>\n",
       "      <td>0.0</td>\n",
       "      <td>0.0</td>\n",
       "      <td>0.0</td>\n",
       "      <td>0.0</td>\n",
       "      <td>0.0</td>\n",
       "      <td>1.0</td>\n",
       "      <td>0.0</td>\n",
       "      <td>1.0</td>\n",
       "      <td>-0.111399</td>\n",
       "      <td>0.462190</td>\n",
       "      <td>0.033498</td>\n",
       "      <td>-0.333480</td>\n",
       "      <td>-0.836894</td>\n",
       "      <td>0.686328</td>\n",
       "      <td>-0.304462</td>\n",
       "      <td>0.011425</td>\n",
       "      <td>0.961461</td>\n",
       "      <td>0.553909</td>\n",
       "      <td>0.505181</td>\n",
       "    </tr>\n",
       "    <tr>\n",
       "      <th>2</th>\n",
       "      <td>0.0</td>\n",
       "      <td>0.0</td>\n",
       "      <td>0.0</td>\n",
       "      <td>0.0</td>\n",
       "      <td>0.0</td>\n",
       "      <td>0.0</td>\n",
       "      <td>0.0</td>\n",
       "      <td>0.0</td>\n",
       "      <td>0.0</td>\n",
       "      <td>0.0</td>\n",
       "      <td>0.0</td>\n",
       "      <td>0.0</td>\n",
       "      <td>1.0</td>\n",
       "      <td>0.0</td>\n",
       "      <td>0.0</td>\n",
       "      <td>0.0</td>\n",
       "      <td>-0.801666</td>\n",
       "      <td>1.812804</td>\n",
       "      <td>-0.350645</td>\n",
       "      <td>0.887085</td>\n",
       "      <td>2.186713</td>\n",
       "      <td>0.495582</td>\n",
       "      <td>-0.304462</td>\n",
       "      <td>-0.437269</td>\n",
       "      <td>-0.073327</td>\n",
       "      <td>1.375298</td>\n",
       "      <td>1.261876</td>\n",
       "    </tr>\n",
       "    <tr>\n",
       "      <th>3</th>\n",
       "      <td>0.0</td>\n",
       "      <td>0.0</td>\n",
       "      <td>0.0</td>\n",
       "      <td>0.0</td>\n",
       "      <td>0.0</td>\n",
       "      <td>0.0</td>\n",
       "      <td>0.0</td>\n",
       "      <td>0.0</td>\n",
       "      <td>0.0</td>\n",
       "      <td>0.0</td>\n",
       "      <td>0.0</td>\n",
       "      <td>0.0</td>\n",
       "      <td>0.0</td>\n",
       "      <td>1.0</td>\n",
       "      <td>0.0</td>\n",
       "      <td>0.0</td>\n",
       "      <td>-0.251096</td>\n",
       "      <td>-1.135578</td>\n",
       "      <td>-0.399597</td>\n",
       "      <td>1.053526</td>\n",
       "      <td>-0.212360</td>\n",
       "      <td>0.447896</td>\n",
       "      <td>-0.304462</td>\n",
       "      <td>-0.482448</td>\n",
       "      <td>-0.185208</td>\n",
       "      <td>0.882465</td>\n",
       "      <td>0.901545</td>\n",
       "    </tr>\n",
       "    <tr>\n",
       "      <th>4</th>\n",
       "      <td>0.0</td>\n",
       "      <td>1.0</td>\n",
       "      <td>0.0</td>\n",
       "      <td>0.0</td>\n",
       "      <td>0.0</td>\n",
       "      <td>0.0</td>\n",
       "      <td>0.0</td>\n",
       "      <td>0.0</td>\n",
       "      <td>0.0</td>\n",
       "      <td>0.0</td>\n",
       "      <td>0.0</td>\n",
       "      <td>0.0</td>\n",
       "      <td>0.0</td>\n",
       "      <td>0.0</td>\n",
       "      <td>0.0</td>\n",
       "      <td>1.0</td>\n",
       "      <td>0.217300</td>\n",
       "      <td>0.342358</td>\n",
       "      <td>-0.385264</td>\n",
       "      <td>-1.856665</td>\n",
       "      <td>-1.017793</td>\n",
       "      <td>0.543269</td>\n",
       "      <td>-0.198197</td>\n",
       "      <td>-0.458771</td>\n",
       "      <td>-0.107964</td>\n",
       "      <td>0.115834</td>\n",
       "      <td>-0.251513</td>\n",
       "    </tr>\n",
       "  </tbody>\n",
       "</table>\n",
       "</div>"
      ],
      "text/plain": [
       "   x0_2001  x0_2002  ...  Income_composition_of_resources  Schooling\n",
       "0      0.0      0.0  ...                         0.668903   0.361049\n",
       "1      0.0      0.0  ...                         0.553909   0.505181\n",
       "2      0.0      0.0  ...                         1.375298   1.261876\n",
       "3      0.0      0.0  ...                         0.882465   0.901545\n",
       "4      0.0      1.0  ...                         0.115834  -0.251513\n",
       "\n",
       "[5 rows x 27 columns]"
      ]
     },
     "execution_count": 20,
     "metadata": {},
     "output_type": "execute_result"
    }
   ],
   "source": [
    "x = training_processed\n",
    "x.head()"
   ]
  },
  {
   "cell_type": "code",
   "execution_count": 21,
   "metadata": {
    "colab": {
     "base_uri": "https://localhost:8080/",
     "height": 224
    },
    "id": "h92_iyKZrT2-",
    "outputId": "3b7ce2cb-cb73-4af6-8a19-dd28ad471f0e"
   },
   "outputs": [
    {
     "data": {
      "text/html": [
       "<div>\n",
       "<style scoped>\n",
       "    .dataframe tbody tr th:only-of-type {\n",
       "        vertical-align: middle;\n",
       "    }\n",
       "\n",
       "    .dataframe tbody tr th {\n",
       "        vertical-align: top;\n",
       "    }\n",
       "\n",
       "    .dataframe thead th {\n",
       "        text-align: right;\n",
       "    }\n",
       "</style>\n",
       "<table border=\"1\" class=\"dataframe\">\n",
       "  <thead>\n",
       "    <tr style=\"text-align: right;\">\n",
       "      <th></th>\n",
       "      <th>x0_2001</th>\n",
       "      <th>x0_2002</th>\n",
       "      <th>x0_2003</th>\n",
       "      <th>x0_2004</th>\n",
       "      <th>x0_2005</th>\n",
       "      <th>x0_2006</th>\n",
       "      <th>x0_2007</th>\n",
       "      <th>x0_2008</th>\n",
       "      <th>x0_2009</th>\n",
       "      <th>x0_2010</th>\n",
       "      <th>x0_2011</th>\n",
       "      <th>x0_2012</th>\n",
       "      <th>x0_2013</th>\n",
       "      <th>x0_2014</th>\n",
       "      <th>x0_2015</th>\n",
       "      <th>x1_Developing</th>\n",
       "      <th>Adult_Mortality</th>\n",
       "      <th>Alcohol</th>\n",
       "      <th>percentage_expenditure</th>\n",
       "      <th>BMI</th>\n",
       "      <th>Total_expenditure</th>\n",
       "      <th>Diphtheria</th>\n",
       "      <th>HIV_AIDS</th>\n",
       "      <th>GDP</th>\n",
       "      <th>Population</th>\n",
       "      <th>Income_composition_of_resources</th>\n",
       "      <th>Schooling</th>\n",
       "    </tr>\n",
       "  </thead>\n",
       "  <tbody>\n",
       "    <tr>\n",
       "      <th>0</th>\n",
       "      <td>0.0</td>\n",
       "      <td>0.0</td>\n",
       "      <td>0.0</td>\n",
       "      <td>1.0</td>\n",
       "      <td>0.0</td>\n",
       "      <td>0.0</td>\n",
       "      <td>0.0</td>\n",
       "      <td>0.0</td>\n",
       "      <td>0.0</td>\n",
       "      <td>0.0</td>\n",
       "      <td>0.0</td>\n",
       "      <td>0.0</td>\n",
       "      <td>0.0</td>\n",
       "      <td>0.0</td>\n",
       "      <td>0.0</td>\n",
       "      <td>0.0</td>\n",
       "      <td>-0.604447</td>\n",
       "      <td>1.962594</td>\n",
       "      <td>6.403688</td>\n",
       "      <td>0.876998</td>\n",
       "      <td>0.920416</td>\n",
       "      <td>0.686328</td>\n",
       "      <td>-0.304462</td>\n",
       "      <td>5.822937</td>\n",
       "      <td>-0.218927</td>\n",
       "      <td>1.265780</td>\n",
       "      <td>0.469148</td>\n",
       "    </tr>\n",
       "    <tr>\n",
       "      <th>1</th>\n",
       "      <td>0.0</td>\n",
       "      <td>0.0</td>\n",
       "      <td>0.0</td>\n",
       "      <td>0.0</td>\n",
       "      <td>0.0</td>\n",
       "      <td>0.0</td>\n",
       "      <td>0.0</td>\n",
       "      <td>0.0</td>\n",
       "      <td>0.0</td>\n",
       "      <td>0.0</td>\n",
       "      <td>0.0</td>\n",
       "      <td>0.0</td>\n",
       "      <td>1.0</td>\n",
       "      <td>0.0</td>\n",
       "      <td>0.0</td>\n",
       "      <td>0.0</td>\n",
       "      <td>-0.859189</td>\n",
       "      <td>1.325984</td>\n",
       "      <td>6.053254</td>\n",
       "      <td>1.335970</td>\n",
       "      <td>1.420044</td>\n",
       "      <td>0.304837</td>\n",
       "      <td>-0.304462</td>\n",
       "      <td>5.162947</td>\n",
       "      <td>0.179390</td>\n",
       "      <td>1.627191</td>\n",
       "      <td>2.919397</td>\n",
       "    </tr>\n",
       "    <tr>\n",
       "      <th>2</th>\n",
       "      <td>0.0</td>\n",
       "      <td>0.0</td>\n",
       "      <td>0.0</td>\n",
       "      <td>0.0</td>\n",
       "      <td>0.0</td>\n",
       "      <td>0.0</td>\n",
       "      <td>0.0</td>\n",
       "      <td>0.0</td>\n",
       "      <td>0.0</td>\n",
       "      <td>0.0</td>\n",
       "      <td>0.0</td>\n",
       "      <td>1.0</td>\n",
       "      <td>0.0</td>\n",
       "      <td>0.0</td>\n",
       "      <td>0.0</td>\n",
       "      <td>0.0</td>\n",
       "      <td>-0.892058</td>\n",
       "      <td>0.709345</td>\n",
       "      <td>5.619977</td>\n",
       "      <td>0.962740</td>\n",
       "      <td>2.470984</td>\n",
       "      <td>0.638641</td>\n",
       "      <td>-0.304462</td>\n",
       "      <td>4.275280</td>\n",
       "      <td>-0.055372</td>\n",
       "      <td>1.462913</td>\n",
       "      <td>1.297909</td>\n",
       "    </tr>\n",
       "    <tr>\n",
       "      <th>3</th>\n",
       "      <td>0.0</td>\n",
       "      <td>0.0</td>\n",
       "      <td>0.0</td>\n",
       "      <td>0.0</td>\n",
       "      <td>0.0</td>\n",
       "      <td>0.0</td>\n",
       "      <td>0.0</td>\n",
       "      <td>0.0</td>\n",
       "      <td>0.0</td>\n",
       "      <td>0.0</td>\n",
       "      <td>0.0</td>\n",
       "      <td>0.0</td>\n",
       "      <td>0.0</td>\n",
       "      <td>1.0</td>\n",
       "      <td>0.0</td>\n",
       "      <td>0.0</td>\n",
       "      <td>-1.311150</td>\n",
       "      <td>1.286039</td>\n",
       "      <td>5.522271</td>\n",
       "      <td>1.366232</td>\n",
       "      <td>1.445887</td>\n",
       "      <td>0.352523</td>\n",
       "      <td>-0.304462</td>\n",
       "      <td>4.698385</td>\n",
       "      <td>-0.179205</td>\n",
       "      <td>1.643619</td>\n",
       "      <td>2.955430</td>\n",
       "    </tr>\n",
       "    <tr>\n",
       "      <th>4</th>\n",
       "      <td>0.0</td>\n",
       "      <td>0.0</td>\n",
       "      <td>0.0</td>\n",
       "      <td>0.0</td>\n",
       "      <td>0.0</td>\n",
       "      <td>0.0</td>\n",
       "      <td>0.0</td>\n",
       "      <td>1.0</td>\n",
       "      <td>0.0</td>\n",
       "      <td>0.0</td>\n",
       "      <td>0.0</td>\n",
       "      <td>0.0</td>\n",
       "      <td>0.0</td>\n",
       "      <td>0.0</td>\n",
       "      <td>0.0</td>\n",
       "      <td>0.0</td>\n",
       "      <td>-1.294715</td>\n",
       "      <td>1.697964</td>\n",
       "      <td>4.156113</td>\n",
       "      <td>1.008133</td>\n",
       "      <td>-2.012741</td>\n",
       "      <td>0.543269</td>\n",
       "      <td>-0.304462</td>\n",
       "      <td>3.322811</td>\n",
       "      <td>-0.205542</td>\n",
       "      <td>1.462913</td>\n",
       "      <td>1.586173</td>\n",
       "    </tr>\n",
       "  </tbody>\n",
       "</table>\n",
       "</div>"
      ],
      "text/plain": [
       "   x0_2001  x0_2002  ...  Income_composition_of_resources  Schooling\n",
       "0      0.0      0.0  ...                         1.265780   0.469148\n",
       "1      0.0      0.0  ...                         1.627191   2.919397\n",
       "2      0.0      0.0  ...                         1.462913   1.297909\n",
       "3      0.0      0.0  ...                         1.643619   2.955430\n",
       "4      0.0      0.0  ...                         1.462913   1.586173\n",
       "\n",
       "[5 rows x 27 columns]"
      ]
     },
     "execution_count": 21,
     "metadata": {},
     "output_type": "execute_result"
    }
   ],
   "source": [
    "x_testing = testing_processed\n",
    "x_testing.head()"
   ]
  },
  {
   "cell_type": "markdown",
   "metadata": {
    "id": "ZNv-3k1IsTGo"
   },
   "source": [
    "**Fitting the Linear Model on all the coefficients**"
   ]
  },
  {
   "cell_type": "code",
   "execution_count": 22,
   "metadata": {
    "id": "3-saM1rTKjKH"
   },
   "outputs": [],
   "source": [
    "### Bulding and fitting the Multiple Linear Regression model###\n",
    "\n",
    "from sklearn.linear_model import LinearRegression\n",
    "# fitting the training data\n",
    "\n",
    "lm = LinearRegression()\n",
    "model = lm.fit(x,y)"
   ]
  },
  {
   "cell_type": "code",
   "execution_count": 23,
   "metadata": {
    "colab": {
     "base_uri": "https://localhost:8080/"
    },
    "id": "h-rvfqirUyv3",
    "outputId": "df589a14-6560-4832-9489-5a3dd5d8be88"
   },
   "outputs": [
    {
     "name": "stdout",
     "output_type": "stream",
     "text": [
      "              0\n",
      "0     74.571327\n",
      "1     71.883044\n",
      "2     78.169860\n",
      "3     75.988897\n",
      "4     67.963980\n",
      "...         ...\n",
      "1149  68.742491\n",
      "1150  86.533769\n",
      "1151  76.742655\n",
      "1152  60.645204\n",
      "1153  63.998722\n",
      "\n",
      "[1154 rows x 1 columns]\n"
     ]
    }
   ],
   "source": [
    "predicted = lm.predict(x)\n",
    "predicted = pd.DataFrame(predicted)\n",
    "print(predicted)"
   ]
  },
  {
   "cell_type": "code",
   "execution_count": 24,
   "metadata": {
    "colab": {
     "base_uri": "https://localhost:8080/",
     "height": 204
    },
    "id": "3yqbcj1T7aVa",
    "outputId": "ac272c8a-69a5-45f2-99cf-895c61d49582"
   },
   "outputs": [
    {
     "data": {
      "text/html": [
       "<div>\n",
       "<style scoped>\n",
       "    .dataframe tbody tr th:only-of-type {\n",
       "        vertical-align: middle;\n",
       "    }\n",
       "\n",
       "    .dataframe tbody tr th {\n",
       "        vertical-align: top;\n",
       "    }\n",
       "\n",
       "    .dataframe thead th {\n",
       "        text-align: right;\n",
       "    }\n",
       "</style>\n",
       "<table border=\"1\" class=\"dataframe\">\n",
       "  <thead>\n",
       "    <tr style=\"text-align: right;\">\n",
       "      <th></th>\n",
       "      <th>0</th>\n",
       "      <th>Life_expectancy</th>\n",
       "    </tr>\n",
       "  </thead>\n",
       "  <tbody>\n",
       "    <tr>\n",
       "      <th>0</th>\n",
       "      <td>74.571327</td>\n",
       "      <td>75.0</td>\n",
       "    </tr>\n",
       "    <tr>\n",
       "      <th>1</th>\n",
       "      <td>71.883044</td>\n",
       "      <td>74.6</td>\n",
       "    </tr>\n",
       "    <tr>\n",
       "      <th>2</th>\n",
       "      <td>78.169860</td>\n",
       "      <td>81.1</td>\n",
       "    </tr>\n",
       "    <tr>\n",
       "      <th>3</th>\n",
       "      <td>75.988897</td>\n",
       "      <td>74.8</td>\n",
       "    </tr>\n",
       "    <tr>\n",
       "      <th>4</th>\n",
       "      <td>67.963980</td>\n",
       "      <td>71.4</td>\n",
       "    </tr>\n",
       "  </tbody>\n",
       "</table>\n",
       "</div>"
      ],
      "text/plain": [
       "           0  Life_expectancy\n",
       "0  74.571327             75.0\n",
       "1  71.883044             74.6\n",
       "2  78.169860             81.1\n",
       "3  75.988897             74.8\n",
       "4  67.963980             71.4"
      ]
     },
     "execution_count": 24,
     "metadata": {},
     "output_type": "execute_result"
    }
   ],
   "source": [
    "# Placing the predicted value and the actual Y value next to each other to see the overview \n",
    "\n",
    "predicted = lm.predict(x)\n",
    "predicted = pd.DataFrame(predicted)\n",
    "out= pd.concat([predicted, y], axis=1)\n",
    "out.head()\n"
   ]
  },
  {
   "cell_type": "code",
   "execution_count": 25,
   "metadata": {
    "colab": {
     "base_uri": "https://localhost:8080/"
    },
    "id": "FpQe-p3LLXgA",
    "outputId": "e659a5e0-2443-41bd-b683-a53bd4e19c70"
   },
   "outputs": [
    {
     "name": "stdout",
     "output_type": "stream",
     "text": [
      "Mean Squared Error(MSE): 12.965318722949505\n",
      "\n",
      "Additional Scoring Parameters - \n",
      "\n",
      "R ^2 : 0.83142413446943\n",
      "Root Mean Squared Error(RMSE): 3.6007386357453806\n",
      "Mean Absolute Error(MAE) : 2.762402840375894\n"
     ]
    }
   ],
   "source": [
    "### Evaluate the Linear Regression model by computing MSE on the training set###\n",
    "from sklearn.metrics import mean_squared_error\n",
    "from sklearn import metrics\n",
    "from sklearn.metrics import r2_score\n",
    "\n",
    "print('Mean Squared Error(MSE):',mean_squared_error(y,predicted))\n",
    "print()\n",
    "\n",
    "print('Additional Scoring Parameters - ')\n",
    "print()\n",
    "print('R ^2 :',lm.score(x,y))\n",
    "print('Root Mean Squared Error(RMSE):',np.sqrt(mean_squared_error(y,predicted)))\n",
    "\n",
    "print('Mean Absolute Error(MAE) :',metrics.mean_absolute_error(y,predicted))\n"
   ]
  },
  {
   "cell_type": "markdown",
   "metadata": {
    "id": "O2jOEvNiO84E"
   },
   "source": [
    "Q8. Print the value of coefficients and also the corresponding variable names for the coefficients."
   ]
  },
  {
   "cell_type": "code",
   "execution_count": 26,
   "metadata": {
    "colab": {
     "base_uri": "https://localhost:8080/",
     "height": 1000
    },
    "id": "Bhs-pp957oBR",
    "outputId": "4c40e779-805c-4f74-faf7-5529598ec18a"
   },
   "outputs": [
    {
     "name": "stderr",
     "output_type": "stream",
     "text": [
      "/usr/local/lib/python3.7/dist-packages/statsmodels/tools/_testing.py:19: FutureWarning: pandas.util.testing is deprecated. Use the functions in the public API at pandas.testing instead.\n",
      "  import pandas.util.testing as tm\n"
     ]
    },
    {
     "data": {
      "text/html": [
       "<table class=\"simpletable\">\n",
       "<caption>OLS Regression Results</caption>\n",
       "<tr>\n",
       "  <th>Dep. Variable:</th>     <td>Life_expectancy</td> <th>  R-squared:         </th> <td>   0.831</td>\n",
       "</tr>\n",
       "<tr>\n",
       "  <th>Model:</th>                   <td>OLS</td>       <th>  Adj. R-squared:    </th> <td>   0.827</td>\n",
       "</tr>\n",
       "<tr>\n",
       "  <th>Method:</th>             <td>Least Squares</td>  <th>  F-statistic:       </th> <td>   205.7</td>\n",
       "</tr>\n",
       "<tr>\n",
       "  <th>Date:</th>             <td>Mon, 15 Nov 2021</td> <th>  Prob (F-statistic):</th>  <td>  0.00</td> \n",
       "</tr>\n",
       "<tr>\n",
       "  <th>Time:</th>                 <td>06:14:20</td>     <th>  Log-Likelihood:    </th> <td> -3115.9</td>\n",
       "</tr>\n",
       "<tr>\n",
       "  <th>No. Observations:</th>      <td>  1154</td>      <th>  AIC:               </th> <td>   6288.</td>\n",
       "</tr>\n",
       "<tr>\n",
       "  <th>Df Residuals:</th>          <td>  1126</td>      <th>  BIC:               </th> <td>   6429.</td>\n",
       "</tr>\n",
       "<tr>\n",
       "  <th>Df Model:</th>              <td>    27</td>      <th>                     </th>     <td> </td>   \n",
       "</tr>\n",
       "<tr>\n",
       "  <th>Covariance Type:</th>      <td>nonrobust</td>    <th>                     </th>     <td> </td>   \n",
       "</tr>\n",
       "</table>\n",
       "<table class=\"simpletable\">\n",
       "<tr>\n",
       "                 <td></td>                    <th>coef</th>     <th>std err</th>      <th>t</th>      <th>P>|t|</th>  <th>[0.025</th>    <th>0.975]</th>  \n",
       "</tr>\n",
       "<tr>\n",
       "  <th>const</th>                           <td>   71.7545</td> <td>    0.633</td> <td>  113.360</td> <td> 0.000</td> <td>   70.513</td> <td>   72.996</td>\n",
       "</tr>\n",
       "<tr>\n",
       "  <th>x0_2001</th>                         <td>   -0.8142</td> <td>    0.770</td> <td>   -1.058</td> <td> 0.290</td> <td>   -2.324</td> <td>    0.696</td>\n",
       "</tr>\n",
       "<tr>\n",
       "  <th>x0_2002</th>                         <td>   -1.0661</td> <td>    0.718</td> <td>   -1.485</td> <td> 0.138</td> <td>   -2.474</td> <td>    0.342</td>\n",
       "</tr>\n",
       "<tr>\n",
       "  <th>x0_2003</th>                         <td>   -0.7750</td> <td>    0.718</td> <td>   -1.080</td> <td> 0.280</td> <td>   -2.183</td> <td>    0.633</td>\n",
       "</tr>\n",
       "<tr>\n",
       "  <th>x0_2004</th>                         <td>   -1.0621</td> <td>    0.698</td> <td>   -1.522</td> <td> 0.128</td> <td>   -2.431</td> <td>    0.307</td>\n",
       "</tr>\n",
       "<tr>\n",
       "  <th>x0_2005</th>                         <td>   -1.0805</td> <td>    0.700</td> <td>   -1.543</td> <td> 0.123</td> <td>   -2.454</td> <td>    0.293</td>\n",
       "</tr>\n",
       "<tr>\n",
       "  <th>x0_2006</th>                         <td>   -1.3744</td> <td>    0.679</td> <td>   -2.026</td> <td> 0.043</td> <td>   -2.706</td> <td>   -0.043</td>\n",
       "</tr>\n",
       "<tr>\n",
       "  <th>x0_2007</th>                         <td>   -1.3800</td> <td>    0.676</td> <td>   -2.041</td> <td> 0.042</td> <td>   -2.707</td> <td>   -0.053</td>\n",
       "</tr>\n",
       "<tr>\n",
       "  <th>x0_2008</th>                         <td>   -1.6980</td> <td>    0.673</td> <td>   -2.522</td> <td> 0.012</td> <td>   -3.019</td> <td>   -0.377</td>\n",
       "</tr>\n",
       "<tr>\n",
       "  <th>x0_2009</th>                         <td>   -1.9980</td> <td>    0.660</td> <td>   -3.026</td> <td> 0.003</td> <td>   -3.294</td> <td>   -0.702</td>\n",
       "</tr>\n",
       "<tr>\n",
       "  <th>x0_2010</th>                         <td>   -2.1438</td> <td>    0.669</td> <td>   -3.204</td> <td> 0.001</td> <td>   -3.457</td> <td>   -0.831</td>\n",
       "</tr>\n",
       "<tr>\n",
       "  <th>x0_2011</th>                         <td>   -2.3843</td> <td>    0.667</td> <td>   -3.575</td> <td> 0.000</td> <td>   -3.693</td> <td>   -1.076</td>\n",
       "</tr>\n",
       "<tr>\n",
       "  <th>x0_2012</th>                         <td>   -2.3037</td> <td>    0.682</td> <td>   -3.377</td> <td> 0.001</td> <td>   -3.642</td> <td>   -0.965</td>\n",
       "</tr>\n",
       "<tr>\n",
       "  <th>x0_2013</th>                         <td>   -2.3915</td> <td>    0.670</td> <td>   -3.568</td> <td> 0.000</td> <td>   -3.707</td> <td>   -1.076</td>\n",
       "</tr>\n",
       "<tr>\n",
       "  <th>x0_2014</th>                         <td>   -2.4432</td> <td>    0.677</td> <td>   -3.609</td> <td> 0.000</td> <td>   -3.772</td> <td>   -1.115</td>\n",
       "</tr>\n",
       "<tr>\n",
       "  <th>x0_2015</th>                         <td>   -0.4106</td> <td>    2.639</td> <td>   -0.156</td> <td> 0.876</td> <td>   -5.588</td> <td>    4.767</td>\n",
       "</tr>\n",
       "<tr>\n",
       "  <th>x1_Developing</th>                   <td>   -0.5633</td> <td>    0.405</td> <td>   -1.391</td> <td> 0.165</td> <td>   -1.358</td> <td>    0.232</td>\n",
       "</tr>\n",
       "<tr>\n",
       "  <th>Adult_Mortality</th>                 <td>   -2.0560</td> <td>    0.143</td> <td>  -14.356</td> <td> 0.000</td> <td>   -2.337</td> <td>   -1.775</td>\n",
       "</tr>\n",
       "<tr>\n",
       "  <th>Alcohol</th>                         <td>   -0.4900</td> <td>    0.163</td> <td>   -3.009</td> <td> 0.003</td> <td>   -0.810</td> <td>   -0.170</td>\n",
       "</tr>\n",
       "<tr>\n",
       "  <th>percentage_expenditure</th>          <td>    0.5524</td> <td>    0.379</td> <td>    1.458</td> <td> 0.145</td> <td>   -0.191</td> <td>    1.296</td>\n",
       "</tr>\n",
       "<tr>\n",
       "  <th>BMI</th>                             <td>    0.7257</td> <td>    0.133</td> <td>    5.450</td> <td> 0.000</td> <td>    0.464</td> <td>    0.987</td>\n",
       "</tr>\n",
       "<tr>\n",
       "  <th>Total_expenditure</th>               <td>    0.2280</td> <td>    0.114</td> <td>    2.003</td> <td> 0.045</td> <td>    0.005</td> <td>    0.451</td>\n",
       "</tr>\n",
       "<tr>\n",
       "  <th>Diphtheria</th>                      <td>    0.4566</td> <td>    0.116</td> <td>    3.920</td> <td> 0.000</td> <td>    0.228</td> <td>    0.685</td>\n",
       "</tr>\n",
       "<tr>\n",
       "  <th>HIV_AIDS</th>                        <td>   -2.6669</td> <td>    0.129</td> <td>  -20.674</td> <td> 0.000</td> <td>   -2.920</td> <td>   -2.414</td>\n",
       "</tr>\n",
       "<tr>\n",
       "  <th>GDP</th>                             <td>    0.2315</td> <td>    0.392</td> <td>    0.590</td> <td> 0.555</td> <td>   -0.538</td> <td>    1.001</td>\n",
       "</tr>\n",
       "<tr>\n",
       "  <th>Population</th>                      <td>   -0.0551</td> <td>    0.108</td> <td>   -0.508</td> <td> 0.612</td> <td>   -0.268</td> <td>    0.158</td>\n",
       "</tr>\n",
       "<tr>\n",
       "  <th>Income_composition_of_resources</th> <td>    2.0431</td> <td>    0.192</td> <td>   10.633</td> <td> 0.000</td> <td>    1.666</td> <td>    2.420</td>\n",
       "</tr>\n",
       "<tr>\n",
       "  <th>Schooling</th>                       <td>    2.6528</td> <td>    0.202</td> <td>   13.131</td> <td> 0.000</td> <td>    2.256</td> <td>    3.049</td>\n",
       "</tr>\n",
       "</table>\n",
       "<table class=\"simpletable\">\n",
       "<tr>\n",
       "  <th>Omnibus:</th>       <td>14.587</td> <th>  Durbin-Watson:     </th> <td>   2.036</td>\n",
       "</tr>\n",
       "<tr>\n",
       "  <th>Prob(Omnibus):</th> <td> 0.001</td> <th>  Jarque-Bera (JB):  </th> <td>  22.352</td>\n",
       "</tr>\n",
       "<tr>\n",
       "  <th>Skew:</th>          <td>-0.083</td> <th>  Prob(JB):          </th> <td>1.40e-05</td>\n",
       "</tr>\n",
       "<tr>\n",
       "  <th>Kurtosis:</th>      <td> 3.661</td> <th>  Cond. No.          </th> <td>    51.9</td>\n",
       "</tr>\n",
       "</table><br/><br/>Warnings:<br/>[1] Standard Errors assume that the covariance matrix of the errors is correctly specified."
      ],
      "text/plain": [
       "<class 'statsmodels.iolib.summary.Summary'>\n",
       "\"\"\"\n",
       "                            OLS Regression Results                            \n",
       "==============================================================================\n",
       "Dep. Variable:        Life_expectancy   R-squared:                       0.831\n",
       "Model:                            OLS   Adj. R-squared:                  0.827\n",
       "Method:                 Least Squares   F-statistic:                     205.7\n",
       "Date:                Mon, 15 Nov 2021   Prob (F-statistic):               0.00\n",
       "Time:                        06:14:20   Log-Likelihood:                -3115.9\n",
       "No. Observations:                1154   AIC:                             6288.\n",
       "Df Residuals:                    1126   BIC:                             6429.\n",
       "Df Model:                          27                                         \n",
       "Covariance Type:            nonrobust                                         \n",
       "===================================================================================================\n",
       "                                      coef    std err          t      P>|t|      [0.025      0.975]\n",
       "---------------------------------------------------------------------------------------------------\n",
       "const                              71.7545      0.633    113.360      0.000      70.513      72.996\n",
       "x0_2001                            -0.8142      0.770     -1.058      0.290      -2.324       0.696\n",
       "x0_2002                            -1.0661      0.718     -1.485      0.138      -2.474       0.342\n",
       "x0_2003                            -0.7750      0.718     -1.080      0.280      -2.183       0.633\n",
       "x0_2004                            -1.0621      0.698     -1.522      0.128      -2.431       0.307\n",
       "x0_2005                            -1.0805      0.700     -1.543      0.123      -2.454       0.293\n",
       "x0_2006                            -1.3744      0.679     -2.026      0.043      -2.706      -0.043\n",
       "x0_2007                            -1.3800      0.676     -2.041      0.042      -2.707      -0.053\n",
       "x0_2008                            -1.6980      0.673     -2.522      0.012      -3.019      -0.377\n",
       "x0_2009                            -1.9980      0.660     -3.026      0.003      -3.294      -0.702\n",
       "x0_2010                            -2.1438      0.669     -3.204      0.001      -3.457      -0.831\n",
       "x0_2011                            -2.3843      0.667     -3.575      0.000      -3.693      -1.076\n",
       "x0_2012                            -2.3037      0.682     -3.377      0.001      -3.642      -0.965\n",
       "x0_2013                            -2.3915      0.670     -3.568      0.000      -3.707      -1.076\n",
       "x0_2014                            -2.4432      0.677     -3.609      0.000      -3.772      -1.115\n",
       "x0_2015                            -0.4106      2.639     -0.156      0.876      -5.588       4.767\n",
       "x1_Developing                      -0.5633      0.405     -1.391      0.165      -1.358       0.232\n",
       "Adult_Mortality                    -2.0560      0.143    -14.356      0.000      -2.337      -1.775\n",
       "Alcohol                            -0.4900      0.163     -3.009      0.003      -0.810      -0.170\n",
       "percentage_expenditure              0.5524      0.379      1.458      0.145      -0.191       1.296\n",
       "BMI                                 0.7257      0.133      5.450      0.000       0.464       0.987\n",
       "Total_expenditure                   0.2280      0.114      2.003      0.045       0.005       0.451\n",
       "Diphtheria                          0.4566      0.116      3.920      0.000       0.228       0.685\n",
       "HIV_AIDS                           -2.6669      0.129    -20.674      0.000      -2.920      -2.414\n",
       "GDP                                 0.2315      0.392      0.590      0.555      -0.538       1.001\n",
       "Population                         -0.0551      0.108     -0.508      0.612      -0.268       0.158\n",
       "Income_composition_of_resources     2.0431      0.192     10.633      0.000       1.666       2.420\n",
       "Schooling                           2.6528      0.202     13.131      0.000       2.256       3.049\n",
       "==============================================================================\n",
       "Omnibus:                       14.587   Durbin-Watson:                   2.036\n",
       "Prob(Omnibus):                  0.001   Jarque-Bera (JB):               22.352\n",
       "Skew:                          -0.083   Prob(JB):                     1.40e-05\n",
       "Kurtosis:                       3.661   Cond. No.                         51.9\n",
       "==============================================================================\n",
       "\n",
       "Warnings:\n",
       "[1] Standard Errors assume that the covariance matrix of the errors is correctly specified.\n",
       "\"\"\""
      ]
     },
     "execution_count": 26,
     "metadata": {},
     "output_type": "execute_result"
    }
   ],
   "source": [
    "import statsmodels.api as sm\n",
    "X = sm.add_constant(x)\n",
    "# Note the difference in argument order\n",
    "model = sm.OLS(y, X).fit()\n",
    "predictions = model.predict(X) # make the predictions by the model\n",
    "\n",
    "# Print out the statistics\n",
    "model.summary()\n"
   ]
  },
  {
   "cell_type": "markdown",
   "metadata": {
    "id": "q18iLjtHX25r"
   },
   "source": [
    "Based on the Correlation plot, there is a high correlation (0.96) between percentage expenditure and GDP. Similarly, in the VIF table (below) as well, these two columns have VIF > 10. One solution would be to remove one of these variables (ex. % expenditure) because the information captured in them is almost identically contributing to the target variable.\n"
   ]
  },
  {
   "cell_type": "code",
   "execution_count": null,
   "metadata": {
    "colab": {
     "base_uri": "https://localhost:8080/",
     "height": 917
    },
    "id": "OjUQoNSoH9Zt",
    "outputId": "a95e82d6-4a8d-41b2-da49-8c607aaa0512"
   },
   "outputs": [
    {
     "data": {
      "text/html": [
       "<div>\n",
       "<style scoped>\n",
       "    .dataframe tbody tr th:only-of-type {\n",
       "        vertical-align: middle;\n",
       "    }\n",
       "\n",
       "    .dataframe tbody tr th {\n",
       "        vertical-align: top;\n",
       "    }\n",
       "\n",
       "    .dataframe thead th {\n",
       "        text-align: right;\n",
       "    }\n",
       "</style>\n",
       "<table border=\"1\" class=\"dataframe\">\n",
       "  <thead>\n",
       "    <tr style=\"text-align: right;\">\n",
       "      <th></th>\n",
       "      <th>features</th>\n",
       "      <th>vif_Factor</th>\n",
       "    </tr>\n",
       "  </thead>\n",
       "  <tbody>\n",
       "    <tr>\n",
       "      <th>0</th>\n",
       "      <td>const</td>\n",
       "      <td>34.796502</td>\n",
       "    </tr>\n",
       "    <tr>\n",
       "      <th>1</th>\n",
       "      <td>x0_2001</td>\n",
       "      <td>1.928090</td>\n",
       "    </tr>\n",
       "    <tr>\n",
       "      <th>2</th>\n",
       "      <td>x0_2002</td>\n",
       "      <td>2.239605</td>\n",
       "    </tr>\n",
       "    <tr>\n",
       "      <th>3</th>\n",
       "      <td>x0_2003</td>\n",
       "      <td>2.239289</td>\n",
       "    </tr>\n",
       "    <tr>\n",
       "      <th>4</th>\n",
       "      <td>x0_2004</td>\n",
       "      <td>2.442391</td>\n",
       "    </tr>\n",
       "    <tr>\n",
       "      <th>5</th>\n",
       "      <td>x0_2005</td>\n",
       "      <td>2.424989</td>\n",
       "    </tr>\n",
       "    <tr>\n",
       "      <th>6</th>\n",
       "      <td>x0_2006</td>\n",
       "      <td>2.639440</td>\n",
       "    </tr>\n",
       "    <tr>\n",
       "      <th>7</th>\n",
       "      <td>x0_2007</td>\n",
       "      <td>2.651420</td>\n",
       "    </tr>\n",
       "    <tr>\n",
       "      <th>8</th>\n",
       "      <td>x0_2008</td>\n",
       "      <td>2.744967</td>\n",
       "    </tr>\n",
       "    <tr>\n",
       "      <th>9</th>\n",
       "      <td>x0_2009</td>\n",
       "      <td>2.888486</td>\n",
       "    </tr>\n",
       "    <tr>\n",
       "      <th>10</th>\n",
       "      <td>x0_2010</td>\n",
       "      <td>2.767749</td>\n",
       "    </tr>\n",
       "    <tr>\n",
       "      <th>11</th>\n",
       "      <td>x0_2011</td>\n",
       "      <td>2.862020</td>\n",
       "    </tr>\n",
       "    <tr>\n",
       "      <th>12</th>\n",
       "      <td>x0_2012</td>\n",
       "      <td>2.758063</td>\n",
       "    </tr>\n",
       "    <tr>\n",
       "      <th>13</th>\n",
       "      <td>x0_2013</td>\n",
       "      <td>2.862581</td>\n",
       "    </tr>\n",
       "    <tr>\n",
       "      <th>14</th>\n",
       "      <td>x0_2014</td>\n",
       "      <td>2.920573</td>\n",
       "    </tr>\n",
       "    <tr>\n",
       "      <th>15</th>\n",
       "      <td>x0_2015</td>\n",
       "      <td>1.046172</td>\n",
       "    </tr>\n",
       "    <tr>\n",
       "      <th>16</th>\n",
       "      <td>x1_Developing</td>\n",
       "      <td>1.798948</td>\n",
       "    </tr>\n",
       "    <tr>\n",
       "      <th>17</th>\n",
       "      <td>Adult_Mortality</td>\n",
       "      <td>1.781253</td>\n",
       "    </tr>\n",
       "    <tr>\n",
       "      <th>18</th>\n",
       "      <td>Alcohol</td>\n",
       "      <td>2.303271</td>\n",
       "    </tr>\n",
       "    <tr>\n",
       "      <th>19</th>\n",
       "      <td>percentage_expenditure</td>\n",
       "      <td>12.463152</td>\n",
       "    </tr>\n",
       "    <tr>\n",
       "      <th>20</th>\n",
       "      <td>BMI</td>\n",
       "      <td>1.540229</td>\n",
       "    </tr>\n",
       "    <tr>\n",
       "      <th>21</th>\n",
       "      <td>Total_expenditure</td>\n",
       "      <td>1.124411</td>\n",
       "    </tr>\n",
       "    <tr>\n",
       "      <th>22</th>\n",
       "      <td>Diphtheria</td>\n",
       "      <td>1.178223</td>\n",
       "    </tr>\n",
       "    <tr>\n",
       "      <th>23</th>\n",
       "      <td>HIV_AIDS</td>\n",
       "      <td>1.445170</td>\n",
       "    </tr>\n",
       "    <tr>\n",
       "      <th>24</th>\n",
       "      <td>GDP</td>\n",
       "      <td>13.363858</td>\n",
       "    </tr>\n",
       "    <tr>\n",
       "      <th>25</th>\n",
       "      <td>Population</td>\n",
       "      <td>1.021568</td>\n",
       "    </tr>\n",
       "    <tr>\n",
       "      <th>26</th>\n",
       "      <td>Income_composition_of_resources</td>\n",
       "      <td>3.206152</td>\n",
       "    </tr>\n",
       "    <tr>\n",
       "      <th>27</th>\n",
       "      <td>Schooling</td>\n",
       "      <td>3.544629</td>\n",
       "    </tr>\n",
       "  </tbody>\n",
       "</table>\n",
       "</div>"
      ],
      "text/plain": [
       "                           features  vif_Factor\n",
       "0                             const   34.796502\n",
       "1                           x0_2001    1.928090\n",
       "2                           x0_2002    2.239605\n",
       "3                           x0_2003    2.239289\n",
       "4                           x0_2004    2.442391\n",
       "5                           x0_2005    2.424989\n",
       "6                           x0_2006    2.639440\n",
       "7                           x0_2007    2.651420\n",
       "8                           x0_2008    2.744967\n",
       "9                           x0_2009    2.888486\n",
       "10                          x0_2010    2.767749\n",
       "11                          x0_2011    2.862020\n",
       "12                          x0_2012    2.758063\n",
       "13                          x0_2013    2.862581\n",
       "14                          x0_2014    2.920573\n",
       "15                          x0_2015    1.046172\n",
       "16                    x1_Developing    1.798948\n",
       "17                  Adult_Mortality    1.781253\n",
       "18                          Alcohol    2.303271\n",
       "19           percentage_expenditure   12.463152\n",
       "20                              BMI    1.540229\n",
       "21                Total_expenditure    1.124411\n",
       "22                       Diphtheria    1.178223\n",
       "23                         HIV_AIDS    1.445170\n",
       "24                              GDP   13.363858\n",
       "25                       Population    1.021568\n",
       "26  Income_composition_of_resources    3.206152\n",
       "27                        Schooling    3.544629"
      ]
     },
     "execution_count": 53,
     "metadata": {},
     "output_type": "execute_result"
    }
   ],
   "source": [
    "#Compute VIF data for each independent variable\n",
    "from statsmodels.stats.outliers_influence import variance_inflation_factor\n",
    "vif = pd.DataFrame()\n",
    "vif[\"features\"] = X.columns\n",
    "vif[\"vif_Factor\"] = [variance_inflation_factor(X.values, i) for i in range(X.shape[1])]\n",
    "vif"
   ]
  },
  {
   "cell_type": "markdown",
   "metadata": {
    "id": "FJ51d6d2YyPp"
   },
   "source": [
    "### Goodness of fit\n",
    "\n",
    "A model can always make predictions. But it is important to determine how good the model is.\n",
    "How do we know that our model captures the data well? When evaluating model fit, a good metric is $R^2$, which corresponds to the amount of variance explained by the model. The formula for $R^2$ is the following:\n",
    "\n",
    "$R^2$ = $1 - \\dfrac{RSS}{TSS}$<br/>\n",
    "where:<br/>\n",
    "$RSS = \\Sigma(y - \\hat{y})^2$<br/>\n",
    "$TSS = \\Sigma(y - \\bar{y})^2$<br/>\n",
    "\n",
    "$R^2$ is also one metric for comparing models against each other. It is intuitive to say that the model that explains more variation in the data is a better fit than one that explains less variation. \n"
   ]
  },
  {
   "cell_type": "code",
   "execution_count": 27,
   "metadata": {
    "id": "Hr0giuHXY4J5"
   },
   "outputs": [],
   "source": [
    "from sklearn.metrics import r2_score"
   ]
  },
  {
   "cell_type": "code",
   "execution_count": 28,
   "metadata": {
    "colab": {
     "base_uri": "https://localhost:8080/"
    },
    "id": "1ywnOhRG8X8o",
    "outputId": "57e2eb8b-0c36-4bc1-efa4-9331de62c9c1"
   },
   "outputs": [
    {
     "name": "stdout",
     "output_type": "stream",
     "text": [
      "r2 socre is 0.83142413446943\n"
     ]
    }
   ],
   "source": [
    "# predicting the accuracy score - R^2 when taking all the features \n",
    "\n",
    "score=r2_score(y,predictions)\n",
    "print('r2 socre is',score)"
   ]
  },
  {
   "cell_type": "markdown",
   "metadata": {
    "id": "kFiC_mfgY7m1"
   },
   "source": [
    "$R^2$ for model with \"Schooling\" as predictor and \"Life_expectancy\" as outcome"
   ]
  },
  {
   "cell_type": "code",
   "execution_count": 29,
   "metadata": {
    "colab": {
     "base_uri": "https://localhost:8080/"
    },
    "id": "LIspp_FPaicb",
    "outputId": "3b958d7d-f3e9-432f-c911-42fd01d0f985"
   },
   "outputs": [
    {
     "name": "stdout",
     "output_type": "stream",
     "text": [
      "r2 score is 0.5575121346397232\n"
     ]
    }
   ],
   "source": [
    "### WRITE CODE ###\n",
    "from sklearn.linear_model import LinearRegression\n",
    "regressor = LinearRegression()\n",
    "\n",
    "x_schooling = x[['Schooling']]\n",
    "\n",
    "model_schooling = regressor.fit(x_schooling,y)\n",
    "predictions_schooling = regressor.predict(x_schooling)\n",
    "\n",
    "# Print R2 score\n",
    "\n",
    "\n",
    "score_schooling=r2_score(y,predictions_schooling)\n",
    "print('r2 score is',score_schooling)"
   ]
  },
  {
   "cell_type": "markdown",
   "metadata": {
    "id": "5fGTnWcobCc_"
   },
   "source": [
    "$R^2$ for model with \"Schooling\", \"Adult_Mortality\" as predictor and \"Life_expectancy\" as outcome"
   ]
  },
  {
   "cell_type": "code",
   "execution_count": 30,
   "metadata": {
    "colab": {
     "base_uri": "https://localhost:8080/"
    },
    "id": "XqBXqRZlbjy7",
    "outputId": "bffbebd7-9d2a-434e-f199-bbba4de3da5d"
   },
   "outputs": [
    {
     "name": "stdout",
     "output_type": "stream",
     "text": [
      "r2 socre is 0.7223314341007621\n"
     ]
    }
   ],
   "source": [
    "### WRITE CODE ###\n",
    "from sklearn.linear_model import LinearRegression\n",
    "regressor = LinearRegression()\n",
    "\n",
    "x_schooling_adultmor = x[['Schooling','Adult_Mortality']]\n",
    "\n",
    "model_schooling_adultmor  = regressor.fit(x_schooling_adultmor,y)\n",
    "predictions_schooling_adultmor  = regressor.predict(x_schooling_adultmor)\n",
    "\n",
    "# Print R2 score\n",
    "\n",
    "score_schooling_adultmor =r2_score(y,predictions_schooling_adultmor)\n",
    "print('r2 socre is',score_schooling_adultmor)"
   ]
  },
  {
   "cell_type": "markdown",
   "metadata": {
    "id": "dE1PDtR0bVdX"
   },
   "source": [
    "$R^2$ for model with \"Schooling\",\"Adult_Mortality\" and \"Population\" as predictor and \"Life_expectancy\" as outcome"
   ]
  },
  {
   "cell_type": "code",
   "execution_count": null,
   "metadata": {
    "colab": {
     "base_uri": "https://localhost:8080/"
    },
    "id": "5WxDGrKqbyR2",
    "outputId": "bfba0c7f-2581-4b3d-96ae-23060df441fd"
   },
   "outputs": [
    {
     "name": "stdout",
     "output_type": "stream",
     "text": [
      "r2 socre is 0.7223745101723086\n"
     ]
    }
   ],
   "source": [
    "### WRITE CODE ###\n",
    "from sklearn.linear_model import LinearRegression\n",
    "regressor = LinearRegression()\n",
    "\n",
    "x_schooling_adultmor_pop = x[['Schooling','Adult_Mortality','Population']]\n",
    "\n",
    "model_schooling_adultmor_pop   = regressor.fit(x_schooling_adultmor_pop,y)\n",
    "predictions_schooling_adultmor_pop   = regressor.predict(x_schooling_adultmor_pop)\n",
    "\n",
    "# Print R2 score\n",
    "\n",
    "score_schooling_adultmor_pop  =r2_score(y,predictions_schooling_adultmor_pop)\n",
    "print('r2 socre is',score_schooling_adultmor_pop)"
   ]
  },
  {
   "cell_type": "markdown",
   "metadata": {
    "id": "vYdvN1CTcMuN"
   },
   "source": [
    "$R^2$ is always going up as we keep adding features.\n",
    "The adjusted R-squared increases only if the new term improves the model more than would be expected by chance.\n",
    "\n",
    "\n",
    "$AdjustedR^2$ = $1 - \\dfrac{(1-R^2)(n-1)}{(n-k-1)}$<br/>\n",
    "where:<br/>\n",
    "n = number of samples<br/>\n",
    "k = number of features"
   ]
  },
  {
   "cell_type": "code",
   "execution_count": null,
   "metadata": {
    "colab": {
     "base_uri": "https://localhost:8080/"
    },
    "id": "soCh5qdtPuO2",
    "outputId": "1010bcef-4cdf-4097-b8b1-c8de58e964e8"
   },
   "outputs": [
    {
     "name": "stdout",
     "output_type": "stream",
     "text": [
      "Adj r2  is 0.8295017781081164\n"
     ]
    }
   ],
   "source": [
    "# Calculating the adjusted R^2 when taking all the features \n",
    "\n",
    "n = len(x)\n",
    "# The k value will be all the features minus 1 for removing the Y variable \n",
    "\n",
    "k = (len(df.columns) - 1)\n",
    "Adj_r2 = 1-(1-score)*(n-1)/(n-k-1)\n",
    "print('Adj r2  is',Adj_r2)"
   ]
  },
  {
   "cell_type": "markdown",
   "metadata": {
    "id": "CCqEwoDNcOgb"
   },
   "source": [
    "Adjusted $R^2$ for model with \"Schooling\" as predictor and \"Life_expectancy\" as outcome"
   ]
  },
  {
   "cell_type": "code",
   "execution_count": null,
   "metadata": {
    "colab": {
     "base_uri": "https://localhost:8080/"
    },
    "id": "mCgTtpskch0n",
    "outputId": "773c0c39-32f8-49c2-82c5-edbe6e359e95"
   },
   "outputs": [
    {
     "name": "stdout",
     "output_type": "stream",
     "text": [
      "Adj r2  is 0.5571280305899313\n"
     ]
    }
   ],
   "source": [
    "### WRITE CODE ###\n",
    "\n",
    "from sklearn.linear_model import LinearRegression\n",
    "regressor = LinearRegression()\n",
    "\n",
    "x_schooling = x[['Schooling']]\n",
    "\n",
    "model_schooling = regressor.fit(x_schooling,y)\n",
    "predictions_schooling = regressor.predict(x_schooling)\n",
    "\n",
    "# Print Adjusted R2 score\n",
    "\n",
    "n = len(x_schooling)\n",
    "k = len(x_schooling.columns)\n",
    "Adj_r2 = 1-(1-score_schooling)*(n-1)/(n-k-1)\n",
    "print('Adj r2  is',Adj_r2)\n"
   ]
  },
  {
   "cell_type": "markdown",
   "metadata": {
    "id": "cKLKf_ODc842"
   },
   "source": [
    "Adjusted $R^2$ for model with \"Schooling\", \"Adult_Mortality\" as predictor and \"Life_expectancy\" as outcome."
   ]
  },
  {
   "cell_type": "code",
   "execution_count": null,
   "metadata": {
    "colab": {
     "base_uri": "https://localhost:8080/"
    },
    "id": "n6j0eaIxdFoD",
    "outputId": "907ff3fa-c140-474a-9dc3-664d4fa52280"
   },
   "outputs": [
    {
     "name": "stdout",
     "output_type": "stream",
     "text": [
      "Adj r2  is 0.7218489517968537\n"
     ]
    }
   ],
   "source": [
    "### WRITE CODE ###\n",
    "from sklearn.linear_model import LinearRegression\n",
    "regressor = LinearRegression()\n",
    "\n",
    "x_schooling_adultmor = x[['Schooling','Adult_Mortality']]\n",
    "\n",
    "model_schooling_adultmor  = regressor.fit(x_schooling_adultmor,y)\n",
    "predictions_schooling_adultmor  = regressor.predict(x_schooling_adultmor)\n",
    "\n",
    "# Print Adjusted R2 score\n",
    "\n",
    "n = len(x_schooling_adultmor)\n",
    "k = len(x_schooling_adultmor.columns)\n",
    "Adj_r2 = 1-(1-score_schooling_adultmor)*(n-1)/(n-k-1)\n",
    "print('Adj r2  is',Adj_r2)\n"
   ]
  },
  {
   "cell_type": "markdown",
   "metadata": {
    "id": "R3oT1NbDdRcK"
   },
   "source": [
    "Adjusted $R^2$ for model with \"Schooling\",\"Adult_Mortality\" and \"Population\" as predictor and \"Life_expectancy\" as outcome"
   ]
  },
  {
   "cell_type": "code",
   "execution_count": null,
   "metadata": {
    "colab": {
     "base_uri": "https://localhost:8080/"
    },
    "id": "KLOFJL2LdVEz",
    "outputId": "f19382de-b8d4-4d54-e2f7-dbd944de2456"
   },
   "outputs": [
    {
     "name": "stdout",
     "output_type": "stream",
     "text": [
      "Adj r2  is 0.7216502697640624\n"
     ]
    }
   ],
   "source": [
    "### WRITE CODE ###\n",
    "from sklearn.linear_model import LinearRegression\n",
    "regressor = LinearRegression()\n",
    "\n",
    "x_schooling_adultmor_pop = x[['Schooling','Adult_Mortality','Population']]\n",
    "\n",
    "model_schooling_adultmor_pop   = regressor.fit(x_schooling_adultmor_pop,y)\n",
    "predictions_schooling_adultmor_pop   = regressor.predict(x_schooling_adultmor_pop)\n",
    "\n",
    "# Print Adjusted R2 score\n",
    "\n",
    "n = len(x_schooling_adultmor_pop)\n",
    "k = len(x_schooling_adultmor_pop.columns)\n",
    "Adj_r2 = 1-(1-score_schooling_adultmor_pop)*(n-1)/(n-k-1)\n",
    "print('Adj r2  is',Adj_r2)\n"
   ]
  },
  {
   "cell_type": "markdown",
   "metadata": {
    "id": "A76qFayt3aFm"
   },
   "source": [
    "**As we can see, the adjusted R^2 of the last model is lower than the adjusted R^2 of the second model  even though we have added an extra variable.**"
   ]
  },
  {
   "cell_type": "markdown",
   "metadata": {
    "id": "HDHU67n8d4x7"
   },
   "source": [
    "### K-fold Cross-Validation\n",
    "\n",
    "However, adjusted $R^2$ is not enough to help us ahieve the best model, a more robust method is k-fold cross-validation.\n",
    "\n",
    "* Randomly split dataset into K equal-sized subsets, or folds\n",
    "* Treat each fold as validation set (train on all but K'th fold and test on K'th fold only)\n",
    "\n",
    "* The overall error is then the mean error over all K models.\n",
    "* Most common are 5- or 10-fold cross-validation\n"
   ]
  },
  {
   "cell_type": "code",
   "execution_count": 31,
   "metadata": {
    "id": "hsUYtTc4WvUk"
   },
   "outputs": [],
   "source": [
    "# Design a function to implement 5-fold cross-validation. \n",
    "# The input: training features X, training target y and # of folds f=5.\n",
    "# The output: the average of MSE over the 5 folds.\n",
    "\n",
    "from sklearn.model_selection import KFold\n",
    "from statistics import mean\n",
    "import random\n",
    "\n",
    "def cross_val_mse(X, y, f=5):\n",
    "    # Write your code here\n",
    "    mse = []\n",
    "\n",
    "    indexes = list(range(len(y)))\n",
    "    random.shuffle(indexes)\n",
    "    indexes = np.array_split(indexes,f)\n",
    "    \n",
    "    for k in range(len(indexes)):\n",
    "        train_index = np.array([]) \n",
    "        for j in range(len(indexes)):\n",
    "            if k != j:\n",
    "                train_index = np.concatenate([train_index, indexes[j]], axis=0) if train_index.size else indexes[j]\n",
    "                                              \n",
    "        X_train = X.iloc[train_index]\n",
    "        X_test = X.iloc[indexes[k]]\n",
    "        \n",
    "        y_train = y.iloc[train_index]\n",
    "        y_test = y.iloc[indexes[k]]\n",
    "        \n",
    "        lm = LinearRegression().fit(X_train, y_train)\n",
    "        mse.append(mean_squared_error(y_test, lm.predict(X_test)))\n",
    "        \n",
    "    return(mean(mse))"
   ]
  },
  {
   "cell_type": "code",
   "execution_count": null,
   "metadata": {
    "colab": {
     "base_uri": "https://localhost:8080/"
    },
    "id": "-XDo5MSow1x6",
    "outputId": "0df20e51-ae12-47af-a8f3-36f2704d88d8"
   },
   "outputs": [
    {
     "data": {
      "text/plain": [
       "13.778613624420766"
      ]
     },
     "execution_count": 227,
     "metadata": {},
     "output_type": "execute_result"
    }
   ],
   "source": [
    "cross_val_mse(x, y, f=5)"
   ]
  },
  {
   "cell_type": "code",
   "execution_count": null,
   "metadata": {
    "id": "2Al4jOT4vrLp"
   },
   "outputs": [],
   "source": [
    "# By using your above functions, find the best combination of features, which has the lowest averaged MSE \n",
    "from itertools import combinations \n",
    "### Write code here ###\n",
    "\n",
    "from sklearn.linear_model import LinearRegression\n",
    "from sklearn.model_selection import cross_val_score\n",
    "from sklearn.model_selection import KFold\n",
    "\n",
    "#drop year and Population: correlation < 0.05\n",
    "X_var = x.iloc[:,15:27].drop(columns='Population')\n",
    "#drop percentage_expenditure, keep GDP: correlation between GPD and percentage_expenditure > 0.9\n",
    "X_var = X_var.drop(columns='percentage_expenditure')\n",
    "Y_var = y\n",
    "\n",
    "# Referenced: xavierbourretsicotte.github.io/subset_selection.html\n",
    "features_list = []\n",
    "avg_mse = []\n",
    "for n_features in range(1,len(X_var.columns) + 1):\n",
    "  for features in combinations(X_var.columns, n_features):\n",
    "    regr = LinearRegression()\n",
    "    reg = regr.fit(X=X_var[list(features)], y=Y_var)\n",
    "    mse = cross_val_mse(X=X_var, y=Y_var, f=5)\n",
    "    features_list.append(features)\n",
    "    avg_mse.append(mse)\n",
    "feature_mse = pd.DataFrame({'features_list':features_list, 'avg_mse':avg_mse})\n",
    "feature_mse_min = feature_mse.loc[feature_mse['avg_mse'] == feature_mse.avg_mse.min(), ['features_list']]"
   ]
  },
  {
   "cell_type": "code",
   "execution_count": null,
   "metadata": {
    "colab": {
     "base_uri": "https://localhost:8080/"
    },
    "id": "T3WWuFZ-eGGE",
    "outputId": "70be374b-d91c-4387-abe5-beeaa93a7186"
   },
   "outputs": [
    {
     "name": "stdout",
     "output_type": "stream",
     "text": [
      "best features: ['x1_Developing', 'Adult_Mortality', 'BMI', 'Total_expenditure', 'Diphtheria', 'HIV_AIDS', 'GDP', 'Income_composition_of_resources', 'Schooling']\n",
      "MSE: 13.462613898470503\n"
     ]
    }
   ],
   "source": [
    "# Print the best features and the corresponding mse\n",
    "### WRITE CODE ###\n",
    "best_features = list(feature_mse_min.iat[0, 0])\n",
    "best_features_df = x[best_features]\n",
    "regr = LinearRegression()\n",
    "reg = regr.fit(X=best_features_df, y=y)\n",
    "predicted = reg.predict(best_features_df)\n",
    "expected = y\n",
    "print('best features:', best_features)\n",
    "print('MSE:', mean_squared_error(expected, predicted))"
   ]
  },
  {
   "cell_type": "markdown",
   "metadata": {
    "id": "F-WBDncGtiY2"
   },
   "source": [
    "### Testing the model on unseen y \n"
   ]
  },
  {
   "cell_type": "code",
   "execution_count": null,
   "metadata": {
    "id": "tYJ-KOqzuLj2"
   },
   "outputs": [],
   "source": [
    "### WRITE CODE ###\n",
    "best_features = list(feature_mse_min.iat[0, 0])\n",
    "best_features_df = x[best_features]\n",
    "regr = LinearRegression()\n",
    "reg = regr.fit(X=best_features_df, y=y)\n",
    "\n",
    "\n",
    "y_pred = reg.predict(x_testing[best_features])\n",
    "y_pred = pd.DataFrame(y_pred,columns=['y_pred'])"
   ]
  },
  {
   "cell_type": "code",
   "execution_count": null,
   "metadata": {
    "colab": {
     "base_uri": "https://localhost:8080/",
     "height": 419
    },
    "id": "YAUlAuc09Uk9",
    "outputId": "34a6bc63-33ea-43a2-e250-935d33e3b50f"
   },
   "outputs": [
    {
     "data": {
      "text/html": [
       "<div>\n",
       "<style scoped>\n",
       "    .dataframe tbody tr th:only-of-type {\n",
       "        vertical-align: middle;\n",
       "    }\n",
       "\n",
       "    .dataframe tbody tr th {\n",
       "        vertical-align: top;\n",
       "    }\n",
       "\n",
       "    .dataframe thead th {\n",
       "        text-align: right;\n",
       "    }\n",
       "</style>\n",
       "<table border=\"1\" class=\"dataframe\">\n",
       "  <thead>\n",
       "    <tr style=\"text-align: right;\">\n",
       "      <th></th>\n",
       "      <th>y_pred</th>\n",
       "    </tr>\n",
       "  </thead>\n",
       "  <tbody>\n",
       "    <tr>\n",
       "      <th>0</th>\n",
       "      <td>80.511684</td>\n",
       "    </tr>\n",
       "    <tr>\n",
       "      <th>1</th>\n",
       "      <td>87.624831</td>\n",
       "    </tr>\n",
       "    <tr>\n",
       "      <th>2</th>\n",
       "      <td>82.852412</td>\n",
       "    </tr>\n",
       "    <tr>\n",
       "      <th>3</th>\n",
       "      <td>88.461064</td>\n",
       "    </tr>\n",
       "    <tr>\n",
       "      <th>4</th>\n",
       "      <td>82.968632</td>\n",
       "    </tr>\n",
       "    <tr>\n",
       "      <th>...</th>\n",
       "      <td>...</td>\n",
       "    </tr>\n",
       "    <tr>\n",
       "      <th>490</th>\n",
       "      <td>59.988510</td>\n",
       "    </tr>\n",
       "    <tr>\n",
       "      <th>491</th>\n",
       "      <td>59.637036</td>\n",
       "    </tr>\n",
       "    <tr>\n",
       "      <th>492</th>\n",
       "      <td>49.869011</td>\n",
       "    </tr>\n",
       "    <tr>\n",
       "      <th>493</th>\n",
       "      <td>62.554013</td>\n",
       "    </tr>\n",
       "    <tr>\n",
       "      <th>494</th>\n",
       "      <td>36.443744</td>\n",
       "    </tr>\n",
       "  </tbody>\n",
       "</table>\n",
       "<p>495 rows × 1 columns</p>\n",
       "</div>"
      ],
      "text/plain": [
       "        y_pred\n",
       "0    80.511684\n",
       "1    87.624831\n",
       "2    82.852412\n",
       "3    88.461064\n",
       "4    82.968632\n",
       "..         ...\n",
       "490  59.988510\n",
       "491  59.637036\n",
       "492  49.869011\n",
       "493  62.554013\n",
       "494  36.443744\n",
       "\n",
       "[495 rows x 1 columns]"
      ]
     },
     "execution_count": 239,
     "metadata": {},
     "output_type": "execute_result"
    }
   ],
   "source": [
    "# Output your prediction on test set as y_pred.\n",
    "y_pred"
   ]
  }
 ],
 "metadata": {
  "colab": {
   "collapsed_sections": [],
   "name": "Exercise_1_GroupNumber8.ipynb",
   "provenance": []
  },
  "kernelspec": {
   "display_name": "Python 3 (ipykernel)",
   "language": "python",
   "name": "python3"
  },
  "language_info": {
   "codemirror_mode": {
    "name": "ipython",
    "version": 3
   },
   "file_extension": ".py",
   "mimetype": "text/x-python",
   "name": "python",
   "nbconvert_exporter": "python",
   "pygments_lexer": "ipython3",
   "version": "3.8.8"
  }
 },
 "nbformat": 4,
 "nbformat_minor": 1
}
